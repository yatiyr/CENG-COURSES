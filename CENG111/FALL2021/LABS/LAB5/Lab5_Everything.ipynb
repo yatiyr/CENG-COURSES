{
    "cells": [
        {
            "cell_type": "markdown",
            "source": [
                "# **LAB5 RECAP**\n",
                "\n",
                "In this document, we are going to recall what we did in **LAB 4** and cover **LAB 5**'s content. Exercises will also be explained here.\n",
                "\n",
                "## **LAB 4 CONTENT**\n",
                "\n",
                "In **LAB 4** before our system quiz, we have discussed;\n",
                "\n",
                "- Python Interpreter\n",
                "- Basic arithmetic operations\n",
                "- Data types\n",
                "- Some methods (`abs`, `hex`, `bin`, `oct`)\n",
                "- Floating point precision loss issue\n",
                "- Type conversions\n",
                "- Some methods for characters (`ord`,`chr`,`isalnum`, `isdigit`)\n",
                "\n",
                "Let's recall them one by one.\n",
                "\n",
                "### **Python Interpreter**\n",
                "\n",
                "When we type `python` or `python3` in our terminal, we see the interpreter. Interpreter works with **REPL(read-evaluate-print-loop)** logic.\n",
                "\n",
                "| **Python Interpreter** |\n",
                "|:--:|\n",
                "|<img src=\"static/interpreter.png\" alt=\"interpreter\" width=\"800\"/>|\n",
                "| We use `python3` in our labs |\n",
                "\n",
                "It basically;\n",
                "\n",
                "1. Expects statements from us\n",
                "2. Evaluates them\n",
                "3. Prints the result\n",
                "4. Returns to step 1\n",
                "\n",
                "So we studied next concepts using this interpreter.\n",
                "\n",
                "### **Basic Arithmetic Operations**\n",
                "\n",
                "We then, looked at how to form arithmetic operations with numbers. The operators we have studied were;\n",
                "\n",
                "- **+ :** addition\n",
                "- **- :** subtraction\n",
                "- **\\* :** multiplication\n",
                "- **\\*\\* :** power operator (`x**2` is x<sup>2</sup>)\n",
                "- **% :** modulo operator (`x % y` gives the remainder if we divide `x` to `y`)\n",
                "\n",
                "And in addition, we can use paranthesis for determining priorities of operations. Same simple math rules apply here.\n",
                "\n",
                "for example;\n"
            ],
            "metadata": {}
        },
        {
            "cell_type": "code",
            "execution_count": 1,
            "source": [
                "5 + 6*8 - 42"
            ],
            "outputs": [
                {
                    "output_type": "execute_result",
                    "data": {
                        "text/plain": [
                            "11"
                        ]
                    },
                    "metadata": {},
                    "execution_count": 1
                }
            ],
            "metadata": {}
        },
        {
            "cell_type": "markdown",
            "source": [
                "If we write the expression above in our interpreter, it evalutes the result as **11** and prints the result. We can write different expression examples;"
            ],
            "metadata": {}
        },
        {
            "cell_type": "code",
            "execution_count": 2,
            "source": [
                "5**3/6.0"
            ],
            "outputs": [
                {
                    "output_type": "execute_result",
                    "data": {
                        "text/plain": [
                            "20.833333333333332"
                        ]
                    },
                    "metadata": {},
                    "execution_count": 2
                }
            ],
            "metadata": {}
        },
        {
            "cell_type": "code",
            "execution_count": 3,
            "source": [
                "(42**4)/(56.0**4) - 1449099"
            ],
            "outputs": [
                {
                    "output_type": "execute_result",
                    "data": {
                        "text/plain": [
                            "-1449098.68359375"
                        ]
                    },
                    "metadata": {},
                    "execution_count": 3
                }
            ],
            "metadata": {}
        },
        {
            "cell_type": "code",
            "execution_count": 4,
            "source": [
                "5 % 3"
            ],
            "outputs": [
                {
                    "output_type": "execute_result",
                    "data": {
                        "text/plain": [
                            "2"
                        ]
                    },
                    "metadata": {},
                    "execution_count": 4
                }
            ],
            "metadata": {}
        },
        {
            "cell_type": "code",
            "execution_count": 5,
            "source": [
                "42 % 7"
            ],
            "outputs": [
                {
                    "output_type": "execute_result",
                    "data": {
                        "text/plain": [
                            "0"
                        ]
                    },
                    "metadata": {},
                    "execution_count": 5
                }
            ],
            "metadata": {}
        },
        {
            "cell_type": "markdown",
            "source": [
                "### **Data Types**\n",
                "\n",
                "Next, we studied some primitive **data types** in python. We have looked at;\n",
                "\n",
                "- `int` => integer numbers\n",
                "- `float` => floating point numbers\n",
                "- `bool` => `True` or `False`\n",
                "- `string` => list of characters\n",
                "\n",
                "We can check **types** of expressions with `type()` function. We can use it like this;"
            ],
            "metadata": {}
        },
        {
            "cell_type": "code",
            "execution_count": 6,
            "source": [
                "type(5)"
            ],
            "outputs": [
                {
                    "output_type": "execute_result",
                    "data": {
                        "text/plain": [
                            "int"
                        ]
                    },
                    "metadata": {},
                    "execution_count": 6
                }
            ],
            "metadata": {}
        },
        {
            "cell_type": "code",
            "execution_count": 7,
            "source": [
                "type(6.7)"
            ],
            "outputs": [
                {
                    "output_type": "execute_result",
                    "data": {
                        "text/plain": [
                            "float"
                        ]
                    },
                    "metadata": {},
                    "execution_count": 7
                }
            ],
            "metadata": {}
        },
        {
            "cell_type": "code",
            "execution_count": 8,
            "source": [
                "type(1000000321)"
            ],
            "outputs": [
                {
                    "output_type": "execute_result",
                    "data": {
                        "text/plain": [
                            "int"
                        ]
                    },
                    "metadata": {},
                    "execution_count": 8
                }
            ],
            "metadata": {}
        },
        {
            "cell_type": "code",
            "execution_count": 9,
            "source": [
                "type(True)"
            ],
            "outputs": [
                {
                    "output_type": "execute_result",
                    "data": {
                        "text/plain": [
                            "bool"
                        ]
                    },
                    "metadata": {},
                    "execution_count": 9
                }
            ],
            "metadata": {}
        },
        {
            "cell_type": "code",
            "execution_count": 10,
            "source": [
                "type(\"Sample String\")"
            ],
            "outputs": [
                {
                    "output_type": "execute_result",
                    "data": {
                        "text/plain": [
                            "str"
                        ]
                    },
                    "metadata": {},
                    "execution_count": 10
                }
            ],
            "metadata": {}
        },
        {
            "cell_type": "markdown",
            "source": [
                "Types of expressions are determined from their operands. For example lets consider;\n",
                "\n",
                "`4 * 3.75 - 1`\n",
                "\n",
                "First operand is an `int`, second one is `float` and third one is `int`. Since we have a `float` the result of this expression is also going to be a `float`"
            ],
            "metadata": {}
        },
        {
            "cell_type": "code",
            "execution_count": 11,
            "source": [
                "type(4 * 3.75 - 1)"
            ],
            "outputs": [
                {
                    "output_type": "execute_result",
                    "data": {
                        "text/plain": [
                            "float"
                        ]
                    },
                    "metadata": {},
                    "execution_count": 11
                }
            ],
            "metadata": {}
        },
        {
            "cell_type": "markdown",
            "source": [
                "### **ABS, HEX, BIN and OCT**\n",
                "\n",
                "We have studied some `abs` , `hex`, `bin` and `oct` functions.\n",
                "\n",
                "- `abs`: takes absolute value\n",
                "- `hex`: shows the number in hexadecimal(base 16) format\n",
                "- `bin`: shows the number in binary format(base 2)\n",
                "- `oct`: shows the number in octal format(base 8)\n",
                "\n",
                "for example;"
            ],
            "metadata": {}
        },
        {
            "cell_type": "code",
            "execution_count": 12,
            "source": [
                "abs(-5.6)"
            ],
            "outputs": [
                {
                    "output_type": "execute_result",
                    "data": {
                        "text/plain": [
                            "5.6"
                        ]
                    },
                    "metadata": {},
                    "execution_count": 12
                }
            ],
            "metadata": {}
        },
        {
            "cell_type": "code",
            "execution_count": 13,
            "source": [
                "hex(5)"
            ],
            "outputs": [
                {
                    "output_type": "execute_result",
                    "data": {
                        "text/plain": [
                            "'0x5'"
                        ]
                    },
                    "metadata": {},
                    "execution_count": 13
                }
            ],
            "metadata": {}
        },
        {
            "cell_type": "code",
            "execution_count": 14,
            "source": [
                "bin(9)"
            ],
            "outputs": [
                {
                    "output_type": "execute_result",
                    "data": {
                        "text/plain": [
                            "'0b1001'"
                        ]
                    },
                    "metadata": {},
                    "execution_count": 14
                }
            ],
            "metadata": {}
        },
        {
            "cell_type": "code",
            "execution_count": 15,
            "source": [
                "oct(25)"
            ],
            "outputs": [
                {
                    "output_type": "execute_result",
                    "data": {
                        "text/plain": [
                            "'0o31'"
                        ]
                    },
                    "metadata": {},
                    "execution_count": 15
                }
            ],
            "metadata": {}
        },
        {
            "cell_type": "markdown",
            "source": [
                "We can examine types of octal"
            ],
            "metadata": {}
        },
        {
            "cell_type": "code",
            "execution_count": 16,
            "source": [
                "type(0o63)"
            ],
            "outputs": [
                {
                    "output_type": "execute_result",
                    "data": {
                        "text/plain": [
                            "int"
                        ]
                    },
                    "metadata": {},
                    "execution_count": 16
                }
            ],
            "metadata": {}
        },
        {
            "cell_type": "markdown",
            "source": [
                "binary"
            ],
            "metadata": {}
        },
        {
            "cell_type": "code",
            "execution_count": 17,
            "source": [
                "type(0b10010)"
            ],
            "outputs": [
                {
                    "output_type": "execute_result",
                    "data": {
                        "text/plain": [
                            "int"
                        ]
                    },
                    "metadata": {},
                    "execution_count": 17
                }
            ],
            "metadata": {}
        },
        {
            "cell_type": "markdown",
            "source": [
                "and octal numbers and they are all integer type;"
            ],
            "metadata": {}
        },
        {
            "cell_type": "code",
            "execution_count": 18,
            "source": [
                "type(0xABCD12)"
            ],
            "outputs": [
                {
                    "output_type": "execute_result",
                    "data": {
                        "text/plain": [
                            "int"
                        ]
                    },
                    "metadata": {},
                    "execution_count": 18
                }
            ],
            "metadata": {}
        },
        {
            "cell_type": "markdown",
            "source": [
                "### **Comparing Values**\n",
                "\n",
                "We can compare values in python with;\n",
                "\n",
                "- `A == B` checks if `A` is equal to `B`\n",
                "- `A < B` checks if `A` is less than `B`\n",
                "- `A <= B` checks if `A` is less than or equal to `B`\n",
                "- `A > B` checks if `A` is greater than `B`\n",
                "- `A >= B` checks if `A` is greater than or equal to `B`\n",
                "\n",
                "These comparison expressions return bool values `True` or `False`"
            ],
            "metadata": {}
        },
        {
            "cell_type": "markdown",
            "source": [
                "### **Floating Point Precision Issue**\n",
                "\n",
                "There is a precision loss issue in python. For example in this expression;\n",
                "\n",
                "`0.1 + 0.2`\n",
                "\n",
                "we expect `0.3` as the result but we get;"
            ],
            "metadata": {}
        },
        {
            "cell_type": "code",
            "execution_count": 19,
            "source": [
                "0.1 + 0.2"
            ],
            "outputs": [
                {
                    "output_type": "execute_result",
                    "data": {
                        "text/plain": [
                            "0.30000000000000004"
                        ]
                    },
                    "metadata": {},
                    "execution_count": 19
                }
            ],
            "metadata": {}
        },
        {
            "cell_type": "markdown",
            "source": [
                "So if we want to check whether `0.1 + 0.2` equals to `0.3`, we will get false"
            ],
            "metadata": {}
        },
        {
            "cell_type": "code",
            "execution_count": 20,
            "source": [
                "0.1 + 0.2 == 0.3"
            ],
            "outputs": [
                {
                    "output_type": "execute_result",
                    "data": {
                        "text/plain": [
                            "False"
                        ]
                    },
                    "metadata": {},
                    "execution_count": 20
                }
            ],
            "metadata": {}
        },
        {
            "cell_type": "markdown",
            "source": [
                "In order to solve this precision problem, we use `abs` function and a small number to compare"
            ],
            "metadata": {}
        },
        {
            "cell_type": "code",
            "execution_count": 21,
            "source": [
                "abs(0.1 + 0.2 - 0.3) < 0.001"
            ],
            "outputs": [
                {
                    "output_type": "execute_result",
                    "data": {
                        "text/plain": [
                            "True"
                        ]
                    },
                    "metadata": {},
                    "execution_count": 21
                }
            ],
            "metadata": {}
        },
        {
            "cell_type": "markdown",
            "source": [
                "Now we get `True`"
            ],
            "metadata": {}
        },
        {
            "cell_type": "markdown",
            "source": [
                "### **Strings**\n",
                "\n",
                "Strings are arrays of characters. We define strings with both '' or \"\". However for strings, it is better to use \"\" because '' is mostly used for single characters in other languages. It will be a better practice."
            ],
            "metadata": {}
        },
        {
            "cell_type": "code",
            "execution_count": 22,
            "source": [
                "type('111')"
            ],
            "outputs": [
                {
                    "output_type": "execute_result",
                    "data": {
                        "text/plain": [
                            "str"
                        ]
                    },
                    "metadata": {},
                    "execution_count": 22
                }
            ],
            "metadata": {}
        },
        {
            "cell_type": "code",
            "execution_count": 23,
            "source": [
                "type(\"111\")"
            ],
            "outputs": [
                {
                    "output_type": "execute_result",
                    "data": {
                        "text/plain": [
                            "str"
                        ]
                    },
                    "metadata": {},
                    "execution_count": 23
                }
            ],
            "metadata": {}
        },
        {
            "cell_type": "markdown",
            "source": [
                "We can use some arithmetic operators on strings. For example;"
            ],
            "metadata": {}
        },
        {
            "cell_type": "code",
            "execution_count": 24,
            "source": [
                "\"ceng\" + \"111\""
            ],
            "outputs": [
                {
                    "output_type": "execute_result",
                    "data": {
                        "text/plain": [
                            "'ceng111'"
                        ]
                    },
                    "metadata": {},
                    "execution_count": 24
                }
            ],
            "metadata": {}
        },
        {
            "cell_type": "markdown",
            "source": [
                "The operation above is a **concatenation** operations. Second string is added to the end of the first string. Another example;"
            ],
            "metadata": {}
        },
        {
            "cell_type": "code",
            "execution_count": 25,
            "source": [
                "'c' + 'e' + 'n' + 'g' + \"111\""
            ],
            "outputs": [
                {
                    "output_type": "execute_result",
                    "data": {
                        "text/plain": [
                            "'ceng111'"
                        ]
                    },
                    "metadata": {},
                    "execution_count": 25
                }
            ],
            "metadata": {}
        },
        {
            "cell_type": "markdown",
            "source": [
                "### **Type Conversion**\n",
                "\n",
                "We can sometimes convert types of values to another type. For example, we can convert numeric strings to integer number with `int()` function"
            ],
            "metadata": {}
        },
        {
            "cell_type": "code",
            "execution_count": 1,
            "source": [
                "int('512')"
            ],
            "outputs": [
                {
                    "output_type": "execute_result",
                    "data": {
                        "text/plain": [
                            "512"
                        ]
                    },
                    "metadata": {},
                    "execution_count": 1
                }
            ],
            "metadata": {}
        },
        {
            "cell_type": "code",
            "execution_count": 2,
            "source": [
                "type(int('512'))"
            ],
            "outputs": [
                {
                    "output_type": "execute_result",
                    "data": {
                        "text/plain": [
                            "int"
                        ]
                    },
                    "metadata": {},
                    "execution_count": 2
                }
            ],
            "metadata": {}
        },
        {
            "cell_type": "markdown",
            "source": [
                "`int()` function can get 2 arguments. Second argument determines the base. For example;"
            ],
            "metadata": {}
        },
        {
            "cell_type": "code",
            "execution_count": 3,
            "source": [
                "int('10101', 2)"
            ],
            "outputs": [
                {
                    "output_type": "execute_result",
                    "data": {
                        "text/plain": [
                            "21"
                        ]
                    },
                    "metadata": {},
                    "execution_count": 3
                }
            ],
            "metadata": {}
        },
        {
            "cell_type": "code",
            "execution_count": 4,
            "source": [
                "int('777', 8)"
            ],
            "outputs": [
                {
                    "output_type": "execute_result",
                    "data": {
                        "text/plain": [
                            "511"
                        ]
                    },
                    "metadata": {},
                    "execution_count": 4
                }
            ],
            "metadata": {}
        },
        {
            "cell_type": "markdown",
            "source": [
                "We can also convert `string` values into `float` values with `float()` function."
            ],
            "metadata": {}
        },
        {
            "cell_type": "code",
            "execution_count": 5,
            "source": [
                "float('21.231232')"
            ],
            "outputs": [
                {
                    "output_type": "execute_result",
                    "data": {
                        "text/plain": [
                            "21.231232"
                        ]
                    },
                    "metadata": {},
                    "execution_count": 5
                }
            ],
            "metadata": {}
        },
        {
            "cell_type": "code",
            "execution_count": 6,
            "source": [
                "type(float('21.231232'))"
            ],
            "outputs": [
                {
                    "output_type": "execute_result",
                    "data": {
                        "text/plain": [
                            "float"
                        ]
                    },
                    "metadata": {},
                    "execution_count": 6
                }
            ],
            "metadata": {}
        },
        {
            "cell_type": "markdown",
            "source": [
                "In similar manner, we can also convert `float`, `int` or `bool` values into `string` with `str()` function"
            ],
            "metadata": {}
        },
        {
            "cell_type": "code",
            "execution_count": 7,
            "source": [
                "str(100)"
            ],
            "outputs": [
                {
                    "output_type": "execute_result",
                    "data": {
                        "text/plain": [
                            "'100'"
                        ]
                    },
                    "metadata": {},
                    "execution_count": 7
                }
            ],
            "metadata": {}
        },
        {
            "cell_type": "code",
            "execution_count": 8,
            "source": [
                "str(998.123)"
            ],
            "outputs": [
                {
                    "output_type": "execute_result",
                    "data": {
                        "text/plain": [
                            "'998.123'"
                        ]
                    },
                    "metadata": {},
                    "execution_count": 8
                }
            ],
            "metadata": {}
        },
        {
            "cell_type": "code",
            "execution_count": 9,
            "source": [
                "str(False)"
            ],
            "outputs": [
                {
                    "output_type": "execute_result",
                    "data": {
                        "text/plain": [
                            "'False'"
                        ]
                    },
                    "metadata": {},
                    "execution_count": 9
                }
            ],
            "metadata": {}
        },
        {
            "cell_type": "markdown",
            "source": [
                "### **ORD, CHR, ISALNUM and ISDIGIT**\n",
                "\n",
                "Characters we enter from keyboard have their `ascii` values. By writing `man ascii` in our terminal we can see these numbers. In below image, we can see decimal representations of our characters.\n",
                "\n",
                "| **Ascii Numbers** |\n",
                "|:--:|\n",
                "|<img src=\"static/ascii_numbers.png\" alt=\"interpreter\" width=\"500\"/>|\n",
                "| A compact representation of ascii numbers |\n",
                "\n",
                "For example, by looking at this table, we can see that number of 'a' character is `97`. In python, we can play around with these numbers. Functions;\n",
                "\n",
                "- `ord()` returns the decimal ascii number of the character\n",
                "- `chr()` returns the character corresponding to that decimal number\n",
                "\n",
                "For example;"
            ],
            "metadata": {}
        },
        {
            "cell_type": "code",
            "execution_count": 10,
            "source": [
                "ord('a')"
            ],
            "outputs": [
                {
                    "output_type": "execute_result",
                    "data": {
                        "text/plain": [
                            "97"
                        ]
                    },
                    "metadata": {},
                    "execution_count": 10
                }
            ],
            "metadata": {}
        },
        {
            "cell_type": "code",
            "execution_count": 11,
            "source": [
                "chr(97)"
            ],
            "outputs": [
                {
                    "output_type": "execute_result",
                    "data": {
                        "text/plain": [
                            "'a'"
                        ]
                    },
                    "metadata": {},
                    "execution_count": 11
                }
            ],
            "metadata": {}
        },
        {
            "cell_type": "markdown",
            "source": [
                "When we look at the alphabetic lowercase and uppercase letters in ascii table, we see that the difference of uppercase and lowercase form of a letter is always `32`"
            ],
            "metadata": {}
        },
        {
            "cell_type": "code",
            "execution_count": 12,
            "source": [
                "ord('a') - ord('A')"
            ],
            "outputs": [
                {
                    "output_type": "execute_result",
                    "data": {
                        "text/plain": [
                            "32"
                        ]
                    },
                    "metadata": {},
                    "execution_count": 12
                }
            ],
            "metadata": {}
        },
        {
            "cell_type": "code",
            "execution_count": 13,
            "source": [
                "ord('x') - ord('X')"
            ],
            "outputs": [
                {
                    "output_type": "execute_result",
                    "data": {
                        "text/plain": [
                            "32"
                        ]
                    },
                    "metadata": {},
                    "execution_count": 13
                }
            ],
            "metadata": {}
        },
        {
            "cell_type": "markdown",
            "source": [
                "This knowledge can be used for capitalizing characters.\n",
                "\n",
                "We also have three other functions called `isalnum()` , `isdigit()` and `isalpha()`.\n",
                "\n",
                "- `isalnum()` checks whether string corresponds to an alphanumeric string. So if contains characters like `.`, `-` etc. It will return false."
            ],
            "metadata": {}
        },
        {
            "cell_type": "code",
            "execution_count": 14,
            "source": [
                "\"321\".isalnum()"
            ],
            "outputs": [
                {
                    "output_type": "execute_result",
                    "data": {
                        "text/plain": [
                            "True"
                        ]
                    },
                    "metadata": {},
                    "execution_count": 14
                }
            ],
            "metadata": {}
        },
        {
            "cell_type": "code",
            "execution_count": 15,
            "source": [
                "\"1233asdasdffha\".isalnum()"
            ],
            "outputs": [
                {
                    "output_type": "execute_result",
                    "data": {
                        "text/plain": [
                            "True"
                        ]
                    },
                    "metadata": {},
                    "execution_count": 15
                }
            ],
            "metadata": {}
        },
        {
            "cell_type": "code",
            "execution_count": 17,
            "source": [
                "\"?.-,~asdasea31\".isalnum()"
            ],
            "outputs": [
                {
                    "output_type": "execute_result",
                    "data": {
                        "text/plain": [
                            "False"
                        ]
                    },
                    "metadata": {},
                    "execution_count": 17
                }
            ],
            "metadata": {}
        },
        {
            "cell_type": "markdown",
            "source": [
                "- `idigit()` checks whether the string corresponds to a numeric value"
            ],
            "metadata": {}
        },
        {
            "cell_type": "code",
            "execution_count": 18,
            "source": [
                "\"b\".isdigit()"
            ],
            "outputs": [
                {
                    "output_type": "execute_result",
                    "data": {
                        "text/plain": [
                            "False"
                        ]
                    },
                    "metadata": {},
                    "execution_count": 18
                }
            ],
            "metadata": {}
        },
        {
            "cell_type": "code",
            "execution_count": 19,
            "source": [
                "\"2132131\".isdigit()"
            ],
            "outputs": [
                {
                    "output_type": "execute_result",
                    "data": {
                        "text/plain": [
                            "True"
                        ]
                    },
                    "metadata": {},
                    "execution_count": 19
                }
            ],
            "metadata": {}
        },
        {
            "cell_type": "markdown",
            "source": [
                "- `isalpha()` checks whether the string corresponds alphabetic characters"
            ],
            "metadata": {}
        },
        {
            "cell_type": "code",
            "execution_count": 20,
            "source": [
                "\"ABCFASDZ\".isalpha()"
            ],
            "outputs": [
                {
                    "output_type": "execute_result",
                    "data": {
                        "text/plain": [
                            "True"
                        ]
                    },
                    "metadata": {},
                    "execution_count": 20
                }
            ],
            "metadata": {}
        },
        {
            "cell_type": "code",
            "execution_count": 21,
            "source": [
                "\"asdas*.*\".isalpha()"
            ],
            "outputs": [
                {
                    "output_type": "execute_result",
                    "data": {
                        "text/plain": [
                            "False"
                        ]
                    },
                    "metadata": {},
                    "execution_count": 21
                }
            ],
            "metadata": {}
        },
        {
            "cell_type": "code",
            "execution_count": 22,
            "source": [
                "\"ADV2C\".isalpha()"
            ],
            "outputs": [
                {
                    "output_type": "execute_result",
                    "data": {
                        "text/plain": [
                            "False"
                        ]
                    },
                    "metadata": {},
                    "execution_count": 22
                }
            ],
            "metadata": {}
        },
        {
            "cell_type": "markdown",
            "source": [
                "## **LAB5 CONTENT**\n",
                "\n",
                "In **Lab 5**, after some recall, we dived into variable definitions. We can define variables in python like this;"
            ],
            "metadata": {}
        },
        {
            "cell_type": "code",
            "execution_count": 23,
            "source": [
                "a = 5\n",
                "b = \"ceng\"\n",
                "c = 111\n",
                "d = 1.5"
            ],
            "outputs": [],
            "metadata": {}
        },
        {
            "cell_type": "code",
            "execution_count": 25,
            "source": [
                "type(a)"
            ],
            "outputs": [
                {
                    "output_type": "execute_result",
                    "data": {
                        "text/plain": [
                            "int"
                        ]
                    },
                    "metadata": {},
                    "execution_count": 25
                }
            ],
            "metadata": {}
        },
        {
            "cell_type": "markdown",
            "source": [
                "We see that variable `a` is an integer and its value is 5. What will happen if we do"
            ],
            "metadata": {}
        },
        {
            "cell_type": "code",
            "execution_count": 26,
            "source": [
                "a = '5'"
            ],
            "outputs": [],
            "metadata": {}
        },
        {
            "cell_type": "markdown",
            "source": [
                "We have changed the value of `a` to a `string` value. We changed its type. This is allowed in python because it is a **dynamically-typed language**! In some other programming languages like `C/C++` this is not allowed."
            ],
            "metadata": {}
        },
        {
            "cell_type": "markdown",
            "source": [
                "## PRINT\n",
                "\n",
                "We have an important built-in function called `print()`. This function prints the values and variables to the terminal."
            ],
            "metadata": {}
        },
        {
            "cell_type": "code",
            "execution_count": 27,
            "source": [
                "print('Hello World')"
            ],
            "outputs": [
                {
                    "output_type": "stream",
                    "name": "stdout",
                    "text": [
                        "Hello World\n"
                    ]
                }
            ],
            "metadata": {}
        },
        {
            "cell_type": "code",
            "execution_count": 28,
            "source": [
                "print(\"Welcome\",\"to\",\"Ceng\", 111)"
            ],
            "outputs": [
                {
                    "output_type": "stream",
                    "name": "stdout",
                    "text": [
                        "Welcome to Ceng 111\n"
                    ]
                }
            ],
            "metadata": {}
        },
        {
            "cell_type": "code",
            "execution_count": 29,
            "source": [
                "print(5, '+', 4, 'is', 9)"
            ],
            "outputs": [
                {
                    "output_type": "stream",
                    "name": "stdout",
                    "text": [
                        "5 + 4 is 9\n"
                    ]
                }
            ],
            "metadata": {}
        },
        {
            "cell_type": "markdown",
            "source": [
                "If we want to print `newlines` we can use `\\n` while printing."
            ],
            "metadata": {}
        },
        {
            "cell_type": "code",
            "execution_count": 30,
            "source": [
                "print(\"\\nCENG\\n111\\n\\nCourse\")"
            ],
            "outputs": [
                {
                    "output_type": "stream",
                    "name": "stdout",
                    "text": [
                        "\n",
                        "CENG\n",
                        "111\n",
                        "\n",
                        "Course\n"
                    ]
                }
            ],
            "metadata": {}
        },
        {
            "cell_type": "markdown",
            "source": [
                "Similarly, we can use `\\t` for using tabs while printing"
            ],
            "metadata": {}
        },
        {
            "cell_type": "code",
            "execution_count": 31,
            "source": [
                "print(\"\\tCENG\\t111\\t\\tCourse\")"
            ],
            "outputs": [
                {
                    "output_type": "stream",
                    "name": "stdout",
                    "text": [
                        "\tCENG\t111\t\tCourse\n"
                    ]
                }
            ],
            "metadata": {}
        },
        {
            "cell_type": "markdown",
            "source": [
                "## ID Function\n",
                "\n",
                "Every object(int, float, string etc.) in python has a value and id. We can think `id` as the address of that object in memory. For exmaple"
            ],
            "metadata": {}
        },
        {
            "cell_type": "code",
            "execution_count": 32,
            "source": [
                "a = 5\n",
                "id(a)"
            ],
            "outputs": [
                {
                    "output_type": "execute_result",
                    "data": {
                        "text/plain": [
                            "9789120"
                        ]
                    },
                    "metadata": {},
                    "execution_count": 32
                }
            ],
            "metadata": {}
        },
        {
            "cell_type": "markdown",
            "source": [
                "It gave us an integer number which is the id of variable `a`\n",
                "\n",
                "## Taking Input From User\n",
                "\n",
                "We can read inputs from users with `input()` function. When program sees an `input()` function, it stops and waits for user input. After we give an input and press enter, it resumes back. For example;"
            ],
            "metadata": {}
        },
        {
            "cell_type": "code",
            "execution_count": 33,
            "source": [
                "name = input(\"What's your name? \") # We write Ali and press enter for example\n",
                "print(\"Hello\", name)"
            ],
            "outputs": [
                {
                    "output_type": "stream",
                    "name": "stdout",
                    "text": [
                        "Hello Ali\n"
                    ]
                }
            ],
            "metadata": {}
        },
        {
            "cell_type": "markdown",
            "source": [
                "Values we load with `input()` are strings. If we want to take values with different types, we should use **type conversion**. For example"
            ],
            "metadata": {}
        },
        {
            "cell_type": "code",
            "execution_count": 35,
            "source": [
                "number = int(input(\"Give a number: \")) # we enter 100\n",
                "print(type(number))"
            ],
            "outputs": [
                {
                    "output_type": "stream",
                    "name": "stdout",
                    "text": [
                        "<class 'int'>\n"
                    ]
                }
            ],
            "metadata": {}
        },
        {
            "cell_type": "code",
            "execution_count": 36,
            "source": [
                "str1 = input(\"Give str1: \") # \"Ceng\"\n",
                "str2 = input(\"Give str2: \") # \"111\"\n",
                "print(str1 + str2)"
            ],
            "outputs": [
                {
                    "output_type": "stream",
                    "name": "stdout",
                    "text": [
                        "Ceng111\n"
                    ]
                }
            ],
            "metadata": {}
        },
        {
            "cell_type": "markdown",
            "source": [
                "## EVAL\n",
                "\n",
                "We can calculate results of mathematical expression strings with `eval()` function. For example;"
            ],
            "metadata": {}
        },
        {
            "cell_type": "code",
            "execution_count": 37,
            "source": [
                "eval(\"5 + 4**2 - 10/2 + 5%3\")"
            ],
            "outputs": [
                {
                    "output_type": "execute_result",
                    "data": {
                        "text/plain": [
                            "18.0"
                        ]
                    },
                    "metadata": {},
                    "execution_count": 37
                }
            ],
            "metadata": {}
        },
        {
            "cell_type": "markdown",
            "source": [
                "So, we can read expressions from users and evaluate their results with `eval()` and use them"
            ],
            "metadata": {}
        },
        {
            "cell_type": "code",
            "execution_count": 38,
            "source": [
                "num = eval(input(\"Enter a mathematical expression\")) # We enter \"5*3 - 10\"\n",
                "print(num)"
            ],
            "outputs": [
                {
                    "output_type": "stream",
                    "name": "stdout",
                    "text": [
                        "5\n"
                    ]
                }
            ],
            "metadata": {}
        },
        {
            "cell_type": "markdown",
            "source": [
                "## Writing Scripts\n",
                "\n",
                "Until this part, we have written statements in interpreter. In this part, we learnt how to write python scripts in text files and run them. We can use programs like `text editor`, `sublime text` for writing scripts. But developers like using `IDE`'s for writing code. Features like code completions, theming, seeing project structure better is desirable. `VsCode` is a good `IDE` for writing code. You can check that out.\n",
                "\n",
                "Lets write our first script. We create a file named `summation.py` and open it. In this script, we want to take two numbers from user, add them and print the result. We write this inside `summation.py`. After we write the code, we run this script with calling `python3 summation.py` and we get the result in our terminal."
            ],
            "metadata": {}
        },
        {
            "cell_type": "code",
            "execution_count": 39,
            "source": [
                "number1 = int(input(\"Enter number1: \")) # 10\n",
                "number2 = int(input(\"Enter number2: \")) # 20\n",
                "\n",
                "print(number1 + number2)"
            ],
            "outputs": [
                {
                    "output_type": "stream",
                    "name": "stdout",
                    "text": [
                        "30\n"
                    ]
                }
            ],
            "metadata": {}
        },
        {
            "cell_type": "markdown",
            "source": [
                "## Writing Comments\n",
                "\n",
                "We can write comments for explaining the code we write. It is a good practice. In python, we can use comments with using `#` character. Things we write after this character is only read by humans\n",
                "\n",
                "```python\n",
                "# This is a comment line\n",
                "```\n",
                "\n",
                "We can add multiline comments with `\"\"\" \"\"\"` \n",
                "\n",
                "```python\n",
                "\"\"\"\n",
                "    This is a\n",
                "    multiline\n",
                "    comment\n",
                "\"\"\"\n",
                "```\n",
                "\n",
                "Characters inside `\"\"\" \"\"\"` are only read by humans."
            ],
            "metadata": {}
        },
        {
            "cell_type": "markdown",
            "source": [
                "## LAB EXAMPLE EXPLANATIONS\n",
                "\n",
                "There are files called `InputExampleX_xxx.py` in tihs repo. These are the exercises we did in class. We can run them with `python3 InputExampleX_xxx.py` in our termianl. Lets explain these examples.\n",
                "\n",
                "### InputExample1_sum\n",
                "\n",
                "It is explained above with `summation.py`\n",
                "\n",
                "### InputExample2_average\n",
                "\n",
                "Lets take three integer values from user and print the average."
            ],
            "metadata": {}
        },
        {
            "cell_type": "code",
            "execution_count": 40,
            "source": [
                "# InputExample2_average.py \n",
                "\n",
                "num1 = int(input('Number 1: ')) # 15\n",
                "num2 = int(input('Number 2: ')) # 10\n",
                "num3 = int(input('Number 3: ')) # 90\n",
                "\n",
                "average = (num1 + num2 + num3)/3\n",
                "\n",
                "print(\"The average of\", num1, \",\", num2, \"and\", num3, \"is\", average)"
            ],
            "outputs": [
                {
                    "output_type": "stream",
                    "name": "stdout",
                    "text": [
                        "The average of 15 , 10 and 90 is 38.333333333333336\n"
                    ]
                }
            ],
            "metadata": {}
        },
        {
            "cell_type": "markdown",
            "source": [
                "## InputExample3_conversion\n",
                "\n",
                "We wrote a script which takes a `Celsius` degree value and converts it into `Fahrenheit`"
            ],
            "metadata": {}
        },
        {
            "cell_type": "code",
            "execution_count": 41,
            "source": [
                "# InputExample3_conversion.py\n",
                "\n",
                "C = float(input(\"Temperature in Celsius: \")) # 38\n",
                "F = C * 9.0/5.0 + 32\n",
                "print(C,'Celsius is', F, 'Fahrenheit')"
            ],
            "outputs": [
                {
                    "output_type": "stream",
                    "name": "stdout",
                    "text": [
                        "38.0 Celsius is 100.4 Fahrenheit\n"
                    ]
                }
            ],
            "metadata": {}
        },
        {
            "cell_type": "markdown",
            "source": [
                "## InputExample4_comparison\n",
                "\n",
                "In this exercise, we take two expressions and print `True` if they equal to same number, `False` otherwise.\n",
                "\n",
                "We calculate results of mathematical expressions with `eval()` function\n",
                "\n",
                "Earlier, we have talked about precission loss, so checking equality with `===` operator will not work everytime. So we need to use `abs()` function and compare it with a small number `epsilon`"
            ],
            "metadata": {}
        },
        {
            "cell_type": "code",
            "execution_count": 42,
            "source": [
                "# InputExample4_comparison.py\n",
                "\n",
                "epsilon = 0.000001\n",
                "a = eval(input(\"expression 1: \")) # \"0.1 + 0.2\"\n",
                "b = eval(input(\"expression 2: \")) # \"0.3\"\n",
                "\n",
                "difference = abs(a-b)\n",
                "print(difference < epsilon) # If difference is less than epsilon, than they are equal"
            ],
            "outputs": [
                {
                    "output_type": "stream",
                    "name": "stdout",
                    "text": [
                        "True\n"
                    ]
                }
            ],
            "metadata": {}
        },
        {
            "cell_type": "markdown",
            "source": [
                "## InputExample5_count\n",
                "\n",
                "In this part, we have examined a string function called `count()`. We use it like;\n",
                "\n",
                "`\"sample_string\".count('s')`\n",
                "\n",
                "Above code prints how many `s` we see in `sample_string`\n",
                "\n",
                "So in this exercise, we read two strings from user and print how many times we see the second string in the first one\n"
            ],
            "metadata": {}
        },
        {
            "cell_type": "code",
            "execution_count": 43,
            "source": [
                "# InputExample5_count.py\n",
                "\n",
                "str1 = input(\"The first string: \") # \"sample_string\"\n",
                "str2 = input(\"The second string: \") # \"s\"\n",
                "print(str1.count(str2))"
            ],
            "outputs": [
                {
                    "output_type": "stream",
                    "name": "stdout",
                    "text": [
                        "2\n"
                    ]
                }
            ],
            "metadata": {}
        },
        {
            "cell_type": "markdown",
            "source": [
                "## InputExample6_max\n",
                "\n",
                "We want to take two integer numbers and print the one which is bigger. We may use `if` statements but we did not learn them yet. To solve this exercise, we can use `abs` function like this;"
            ],
            "metadata": {}
        },
        {
            "cell_type": "code",
            "execution_count": 44,
            "source": [
                "# InputExample6_max.py\n",
                "\n",
                "num1 = int(input(\"Enter number1: \")) # 90\n",
                "num2 = int(input(\"Enter number2: \")) # 91\n",
                "\n",
                "print(((num1+num2) + abs(num1-num2))/2)"
            ],
            "outputs": [
                {
                    "output_type": "stream",
                    "name": "stdout",
                    "text": [
                        "91.0\n"
                    ]
                }
            ],
            "metadata": {}
        },
        {
            "cell_type": "markdown",
            "source": [
                "## InputExample7_charCapitalize\n",
                "\n",
                "In this exercise, we want to write a script which takes a lowercase letter and prints the uppercase of that letter. Normally, we may use string functions like `upper()` but this is not permitted in this exercise.\n",
                "\n",
                "In order to solve this, we need to remember what `ord()` and `char()` functions do. We also need to remember ascii numbers.\n",
                "\n",
                "We recall that difference of ascii values of lowercase and uppercase letters are always `32`.\n",
                "\n",
                "Thus, using this knowledge;\n"
            ],
            "metadata": {}
        },
        {
            "cell_type": "code",
            "execution_count": 45,
            "source": [
                "# InputExample7_charCapitalize.py\n",
                "\n",
                "lowercaseLetter = input(\"Lowercase Letter: \") # we give \"g\"\n",
                "\n",
                "uppercaseLetter = chr(ord(lowercaseLetter) - 32)\n",
                "\n",
                "print(\"Capitalized letter is \", uppercaseLetter)"
            ],
            "outputs": [
                {
                    "output_type": "stream",
                    "name": "stdout",
                    "text": [
                        "Capitalized letter is  G\n"
                    ]
                }
            ],
            "metadata": {}
        }
    ],
    "metadata": {
        "orig_nbformat": 4,
        "language_info": {
            "name": "python",
            "version": "3.8.10",
            "mimetype": "text/x-python",
            "codemirror_mode": {
                "name": "ipython",
                "version": 3
            },
            "pygments_lexer": "ipython3",
            "nbconvert_exporter": "python",
            "file_extension": ".py"
        },
        "kernelspec": {
            "name": "python3",
            "display_name": "Python 3.8.10 64-bit"
        },
        "interpreter": {
            "hash": "31f2aee4e71d21fbe5cf8b01ff0e069b9275f58929596ceb00d14d90e3e16cd6"
        }
    },
    "nbformat": 4,
    "nbformat_minor": 2
}