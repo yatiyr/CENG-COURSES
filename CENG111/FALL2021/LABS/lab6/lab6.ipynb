{
 "cells": [
  {
   "cell_type": "markdown",
   "id": "f6008af4",
   "metadata": {},
   "source": [
    "# LAB 6\n",
    "\n",
    "In this lab, we are going to look at **strings**, **lists** and **tuples**\n",
    "\n",
    "## Strings\n",
    "\n",
    "Strings are sequences of characters. With numerical indexes we can access individual characters.\n",
    "\n",
    "### Indexing\n",
    "\n",
    "About indexing;\n",
    "\n",
    "- Indexing starts counting from 0\n",
    "- There are negative indices, they count from right to left and start with -1\n",
    "- We use square bracket notation.\n",
    "\n",
    "For example let's think we have an example string and we want to check its characters with indexing;"
   ]
  },
  {
   "cell_type": "markdown",
   "id": "928c3184",
   "metadata": {},
   "source": [
    "Strings are immutable types, so we cannot change individual characters like;"
   ]
  },
  {
   "cell_type": "code",
   "execution_count": 1,
   "id": "e620e10e",
   "metadata": {
    "scrolled": true
   },
   "outputs": [
    {
     "name": "stdout",
     "output_type": "stream",
     "text": [
      "First letter is M\n",
      "Second letter is y\n",
      "Last letter is g\n",
      "Letter before last letter is n\n"
     ]
    }
   ],
   "source": [
    "exampleString = \"MyString\"\n",
    "\n",
    "# First Letter\n",
    "print(\"First letter is\", exampleString[0])\n",
    "\n",
    "# Second Letter\n",
    "print(\"Second letter is\", exampleString[1])\n",
    "\n",
    "# Last Letter\n",
    "print(\"Last letter is\", exampleString[-1])\n",
    "\n",
    "# Letter before last letter\n",
    "print(\"Letter before last letter is\", exampleString[-2])"
   ]
  },
  {
   "cell_type": "code",
   "execution_count": null,
   "id": "7a1eb1f9",
   "metadata": {},
   "outputs": [],
   "source": []
  },
  {
   "cell_type": "markdown",
   "id": "197b21cc",
   "metadata": {},
   "source": [
    "### Immutable Issue\n",
    "\n",
    "Strings are immutable, so we cannot change its individual characters like;"
   ]
  },
  {
   "cell_type": "code",
   "execution_count": 61,
   "id": "169c4532",
   "metadata": {
    "scrolled": true
   },
   "outputs": [
    {
     "ename": "TypeError",
     "evalue": "'str' object does not support item assignment",
     "output_type": "error",
     "traceback": [
      "\u001b[0;31m---------------------------------------------------------------------------\u001b[0m",
      "\u001b[0;31mTypeError\u001b[0m                                 Traceback (most recent call last)",
      "\u001b[0;32m<ipython-input-61-869b5321307e>\u001b[0m in \u001b[0;36m<module>\u001b[0;34m\u001b[0m\n\u001b[1;32m      1\u001b[0m \u001b[0mimmutableExample\u001b[0m \u001b[0;34m=\u001b[0m \u001b[0;34m\"String1\"\u001b[0m\u001b[0;34m\u001b[0m\u001b[0;34m\u001b[0m\u001b[0m\n\u001b[1;32m      2\u001b[0m \u001b[0;34m\u001b[0m\u001b[0m\n\u001b[0;32m----> 3\u001b[0;31m \u001b[0mimmutableExample\u001b[0m\u001b[0;34m[\u001b[0m\u001b[0;36m2\u001b[0m\u001b[0;34m]\u001b[0m \u001b[0;34m=\u001b[0m \u001b[0;34m\"s\"\u001b[0m\u001b[0;34m\u001b[0m\u001b[0;34m\u001b[0m\u001b[0m\n\u001b[0m",
      "\u001b[0;31mTypeError\u001b[0m: 'str' object does not support item assignment"
     ]
    }
   ],
   "source": [
    "immutableExample = \"String1\"\n",
    "\n",
    "immutableExample[2] = \"s\""
   ]
  },
  {
   "cell_type": "markdown",
   "id": "d3c73813",
   "metadata": {},
   "source": [
    "For that, we need to create a new string"
   ]
  },
  {
   "cell_type": "code",
   "execution_count": 64,
   "id": "f7560674",
   "metadata": {},
   "outputs": [
    {
     "name": "stdout",
     "output_type": "stream",
     "text": [
      "Stsing1\n"
     ]
    }
   ],
   "source": [
    "# We are slicing the string here, we will see slicing right after this example\n",
    "newString = immutableExample[0:2] + 's' + immutableExample[3:]\n",
    "\n",
    "print(newString)"
   ]
  },
  {
   "cell_type": "markdown",
   "id": "c17727ae",
   "metadata": {},
   "source": [
    "### String Slicing\n",
    "\n",
    "By using square bracket notation `[ ]`, we can take a slice of our strings. We declare;\n",
    "\n",
    "- **Start** is index where slice starts. Default **0**\n",
    "- **Stop** is where slice stops. This index is not included. Default is **length of string**\n",
    "- **Step** tells how many characters to jump while going start to stop. Default is **1**\n",
    "\n",
    "in the square brackets using `:` between them.\n",
    "\n",
    "The notation will be like `stringVariable[start:stop:step]`\n",
    "\n",
    "For example we have the string;"
   ]
  },
  {
   "cell_type": "code",
   "execution_count": 3,
   "id": "13978025",
   "metadata": {},
   "outputs": [],
   "source": [
    "sliceString = \"Hello from Lab 6 of Ceng111!\""
   ]
  },
  {
   "cell_type": "code",
   "execution_count": 4,
   "id": "530e2e8d",
   "metadata": {},
   "outputs": [
    {
     "data": {
      "text/plain": [
       "'Hello'"
      ]
     },
     "execution_count": 4,
     "metadata": {},
     "output_type": "execute_result"
    }
   ],
   "source": [
    "sliceString[0:5]"
   ]
  },
  {
   "cell_type": "code",
   "execution_count": 5,
   "id": "04a63568",
   "metadata": {},
   "outputs": [
    {
     "data": {
      "text/plain": [
       "'Hello fro'"
      ]
     },
     "execution_count": 5,
     "metadata": {},
     "output_type": "execute_result"
    }
   ],
   "source": [
    "sliceString[:9]"
   ]
  },
  {
   "cell_type": "code",
   "execution_count": 6,
   "id": "da4e06b9",
   "metadata": {},
   "outputs": [
    {
     "data": {
      "text/plain": [
       "'lfm'"
      ]
     },
     "execution_count": 6,
     "metadata": {},
     "output_type": "execute_result"
    }
   ],
   "source": [
    "sliceString[3:12:3]"
   ]
  },
  {
   "cell_type": "code",
   "execution_count": 7,
   "id": "8f5864b5",
   "metadata": {},
   "outputs": [
    {
     "data": {
      "text/plain": [
       "'Hlfma6fe1!'"
      ]
     },
     "execution_count": 7,
     "metadata": {},
     "output_type": "execute_result"
    }
   ],
   "source": [
    "sliceString[::3]"
   ]
  },
  {
   "cell_type": "code",
   "execution_count": 8,
   "id": "16dc8797",
   "metadata": {},
   "outputs": [
    {
     "data": {
      "text/plain": [
       "'!111gneC fo 6 baL morf olleH'"
      ]
     },
     "execution_count": 8,
     "metadata": {},
     "output_type": "execute_result"
    }
   ],
   "source": [
    "sliceString[::-1]"
   ]
  },
  {
   "cell_type": "markdown",
   "id": "71a6b9c8",
   "metadata": {},
   "source": [
    "## String operators\n",
    "\n",
    "**+** operator concatenates the operands. Adds right operand to the left one.\n",
    "\n",
    "For example;"
   ]
  },
  {
   "cell_type": "code",
   "execution_count": 9,
   "id": "9021fbf2",
   "metadata": {},
   "outputs": [
    {
     "name": "stdout",
     "output_type": "stream",
     "text": [
      "Hello Lab 6\n"
     ]
    }
   ],
   "source": [
    "operand1 = \"Hello \"\n",
    "operand2 = \"Lab 6\"\n",
    "\n",
    "concatenation = operand1 + operand2\n",
    "\n",
    "print(concatenation)"
   ]
  },
  {
   "cell_type": "markdown",
   "id": "770eb004",
   "metadata": {},
   "source": [
    "**\\*** operator takes a string **s** and an integer **i** as operands. It returns a new string which is **i** times **s** added\n",
    "\n",
    "For example;"
   ]
  },
  {
   "cell_type": "code",
   "execution_count": 10,
   "id": "f9fe646e",
   "metadata": {},
   "outputs": [
    {
     "name": "stdout",
     "output_type": "stream",
     "text": [
      "Hello!Hello!Hello!Hello!Hello!\n"
     ]
    }
   ],
   "source": [
    "operand3 = \"Hello!\"\n",
    "\n",
    "res1  = operand3 * 5\n",
    "\n",
    "print(res1)"
   ]
  },
  {
   "cell_type": "code",
   "execution_count": 11,
   "id": "d22510f0",
   "metadata": {},
   "outputs": [
    {
     "name": "stdout",
     "output_type": "stream",
     "text": [
      "Good day to you sir!\n"
     ]
    }
   ],
   "source": [
    "sentence1 = \"good day to you SiR!\"\n",
    "capitalizedSentence = sentence1.capitalize()\n",
    "\n",
    "print(capitalizedSentence)"
   ]
  },
  {
   "cell_type": "markdown",
   "id": "34f5916f",
   "metadata": {},
   "source": [
    "## String Methods\n",
    "\n",
    "Strings methods do not change the actual string. They return a copy of the string.\n",
    "\n",
    "\n",
    "\n",
    "### Capitalize()\n",
    "\n",
    "Makes first character upper and others lower;"
   ]
  },
  {
   "cell_type": "code",
   "execution_count": 69,
   "id": "3d01b7e8",
   "metadata": {},
   "outputs": [
    {
     "name": "stdout",
     "output_type": "stream",
     "text": [
      "Hello my friends\n"
     ]
    }
   ],
   "source": [
    "sentence1 = \"hello mY Friends\"\n",
    "\n",
    "capitalized1 = sentence1.capitalize()\n",
    "\n",
    "print(capitalized1)"
   ]
  },
  {
   "cell_type": "markdown",
   "id": "fd1f15ae",
   "metadata": {},
   "source": [
    "### Lower()\n",
    "\n",
    "Converts all letters to lowercase"
   ]
  },
  {
   "cell_type": "code",
   "execution_count": 13,
   "id": "5ee18ffe",
   "metadata": {},
   "outputs": [
    {
     "name": "stdout",
     "output_type": "stream",
     "text": [
      "what do you do for a living?\n"
     ]
    }
   ],
   "source": [
    "sentence2 = \"what Do YoU dO fOR a lIving?\"\n",
    "lowerSentence2 = sentence2.lower()\n",
    "\n",
    "print(lowerSentence2)"
   ]
  },
  {
   "cell_type": "markdown",
   "id": "a583cfa9",
   "metadata": {},
   "source": [
    "### Upper()\n",
    "\n",
    "Converts all letters to uppercase"
   ]
  },
  {
   "cell_type": "code",
   "execution_count": 14,
   "id": "25abe011",
   "metadata": {},
   "outputs": [
    {
     "name": "stdout",
     "output_type": "stream",
     "text": [
      "I NEED SOME SLEEP!\n"
     ]
    }
   ],
   "source": [
    "sentence3 = \"i nEed sOme SLeep!\"\n",
    "upperSentence3 = sentence3.upper()\n",
    "\n",
    "print(upperSentence3)"
   ]
  },
  {
   "cell_type": "markdown",
   "id": "aaf85b5b",
   "metadata": {},
   "source": [
    "### Len()\n",
    "\n",
    "Returns the length of a string. It is not a special method for strings it applies to lists etc. as well"
   ]
  },
  {
   "cell_type": "code",
   "execution_count": 70,
   "id": "2bf0c903",
   "metadata": {},
   "outputs": [
    {
     "data": {
      "text/plain": [
       "9"
      ]
     },
     "execution_count": 70,
     "metadata": {},
     "output_type": "execute_result"
    }
   ],
   "source": [
    "lengthExample = \"123456789\"\n",
    "\n",
    "len(lengthExample)"
   ]
  },
  {
   "cell_type": "markdown",
   "id": "02f3737e",
   "metadata": {},
   "source": [
    "### Title()\n",
    "\n",
    "Converts **first letters** of each word to uppercase and others to lowercase"
   ]
  },
  {
   "cell_type": "code",
   "execution_count": 15,
   "id": "9cce7cd0",
   "metadata": {},
   "outputs": [
    {
     "name": "stdout",
     "output_type": "stream",
     "text": [
      "I Need Some Sleep!\n"
     ]
    }
   ],
   "source": [
    "# Let's look at sentence3 from above\n",
    "titleExample = sentence3.title()\n",
    "\n",
    "print(titleExample)"
   ]
  },
  {
   "cell_type": "markdown",
   "id": "473dfc5f",
   "metadata": {},
   "source": [
    "### Swapcase()\n",
    "\n",
    "Swaps cases of all letters"
   ]
  },
  {
   "cell_type": "code",
   "execution_count": 16,
   "id": "6304ad61",
   "metadata": {},
   "outputs": [
    {
     "name": "stdout",
     "output_type": "stream",
     "text": [
      "i nEED sOME sLEEP!\n"
     ]
    }
   ],
   "source": [
    "# Let's look at titleExample from above\n",
    "swapCaseExample = titleExample.swapcase()\n",
    "\n",
    "print(swapCaseExample)"
   ]
  },
  {
   "cell_type": "markdown",
   "id": "fe57f748",
   "metadata": {},
   "source": [
    "### Count(substring, start, end)\n",
    "\n",
    "This method returns number of time **substring** occurs in a string."
   ]
  },
  {
   "cell_type": "code",
   "execution_count": 17,
   "id": "5d600e8d",
   "metadata": {},
   "outputs": [
    {
     "data": {
      "text/plain": [
       "3"
      ]
     },
     "execution_count": 17,
     "metadata": {},
     "output_type": "execute_result"
    }
   ],
   "source": [
    "countExample = \"Welcome to Ceng111\"\n",
    "\n",
    "countExample.count('1')"
   ]
  },
  {
   "cell_type": "code",
   "execution_count": 18,
   "id": "709daa12",
   "metadata": {},
   "outputs": [
    {
     "data": {
      "text/plain": [
       "1"
      ]
     },
     "execution_count": 18,
     "metadata": {},
     "output_type": "execute_result"
    }
   ],
   "source": [
    "countExample.count('11')"
   ]
  },
  {
   "cell_type": "code",
   "execution_count": 19,
   "id": "1849e593",
   "metadata": {},
   "outputs": [
    {
     "data": {
      "text/plain": [
       "3"
      ]
     },
     "execution_count": 19,
     "metadata": {},
     "output_type": "execute_result"
    }
   ],
   "source": [
    "countExample.count('e')"
   ]
  },
  {
   "cell_type": "code",
   "execution_count": 20,
   "id": "ab0f1c66",
   "metadata": {},
   "outputs": [
    {
     "data": {
      "text/plain": [
       "1"
      ]
     },
     "execution_count": 20,
     "metadata": {},
     "output_type": "execute_result"
    }
   ],
   "source": [
    "countExample.count('W')"
   ]
  },
  {
   "cell_type": "code",
   "execution_count": 21,
   "id": "6df94350",
   "metadata": {},
   "outputs": [
    {
     "data": {
      "text/plain": [
       "0"
      ]
     },
     "execution_count": 21,
     "metadata": {},
     "output_type": "execute_result"
    }
   ],
   "source": [
    "# When we do not have that character\n",
    "countExample.count('-')"
   ]
  },
  {
   "cell_type": "code",
   "execution_count": 24,
   "id": "58bdc06e",
   "metadata": {},
   "outputs": [
    {
     "data": {
      "text/plain": [
       "2"
      ]
     },
     "execution_count": 24,
     "metadata": {},
     "output_type": "execute_result"
    }
   ],
   "source": [
    "countExample.count('e',0, 9)"
   ]
  },
  {
   "cell_type": "markdown",
   "id": "6efd57ac",
   "metadata": {},
   "source": [
    "### Find(substring, start, end)\n",
    "\n",
    "Returns the index where **substring** first occured in the string. If it is not found, it returns **-1**"
   ]
  },
  {
   "cell_type": "code",
   "execution_count": 27,
   "id": "2b216987",
   "metadata": {},
   "outputs": [
    {
     "data": {
      "text/plain": [
       "1"
      ]
     },
     "execution_count": 27,
     "metadata": {},
     "output_type": "execute_result"
    }
   ],
   "source": [
    "findExample = \"seashells seashells by the seashore\"\n",
    "\n",
    "findExample.find(\"ea\")"
   ]
  },
  {
   "cell_type": "code",
   "execution_count": 29,
   "id": "968b954b",
   "metadata": {},
   "outputs": [
    {
     "data": {
      "text/plain": [
       "30"
      ]
     },
     "execution_count": 29,
     "metadata": {},
     "output_type": "execute_result"
    }
   ],
   "source": [
    "findExample.find('shore')"
   ]
  },
  {
   "cell_type": "code",
   "execution_count": 37,
   "id": "a2c3742b",
   "metadata": {},
   "outputs": [
    {
     "data": {
      "text/plain": [
       "10"
      ]
     },
     "execution_count": 37,
     "metadata": {},
     "output_type": "execute_result"
    }
   ],
   "source": [
    "findExample.find('sea', 9, 20)"
   ]
  },
  {
   "cell_type": "markdown",
   "id": "ce77e67d",
   "metadata": {},
   "source": [
    "### Isalnum()\n",
    "\n",
    "If all characters are letters and numbers it returns **True**, otherwise **False**"
   ]
  },
  {
   "cell_type": "code",
   "execution_count": 38,
   "id": "f8c93382",
   "metadata": {},
   "outputs": [
    {
     "data": {
      "text/plain": [
       "True"
      ]
     },
     "execution_count": 38,
     "metadata": {},
     "output_type": "execute_result"
    }
   ],
   "source": [
    "alphaNumStr = \"Abcd121aasd\"\n",
    "\n",
    "alphaNumStr.isalnum()"
   ]
  },
  {
   "cell_type": "code",
   "execution_count": 39,
   "id": "2d17f8b1",
   "metadata": {},
   "outputs": [
    {
     "data": {
      "text/plain": [
       "False"
      ]
     },
     "execution_count": 39,
     "metadata": {},
     "output_type": "execute_result"
    }
   ],
   "source": [
    "nonAlphaNumStr = \"Abcd123-*asd\"\n",
    "\n",
    "nonAlphaNumStr.isalnum()"
   ]
  },
  {
   "cell_type": "markdown",
   "id": "a02a1f36",
   "metadata": {},
   "source": [
    "### Isalpha\n",
    "\n",
    "If all characters are letters it returns **True**, otherwise **False**"
   ]
  },
  {
   "cell_type": "code",
   "execution_count": 40,
   "id": "e27549d9",
   "metadata": {},
   "outputs": [
    {
     "data": {
      "text/plain": [
       "True"
      ]
     },
     "execution_count": 40,
     "metadata": {},
     "output_type": "execute_result"
    }
   ],
   "source": [
    "alphaStr = \"AbcdEfZ\"\n",
    "\n",
    "alphaStr.isalpha()"
   ]
  },
  {
   "cell_type": "code",
   "execution_count": 41,
   "id": "6912d99d",
   "metadata": {},
   "outputs": [
    {
     "data": {
      "text/plain": [
       "False"
      ]
     },
     "execution_count": 41,
     "metadata": {},
     "output_type": "execute_result"
    }
   ],
   "source": [
    "nonAlphaStr = \"Abcd123-\"\n",
    "\n",
    "nonAlphaStr.isalpha()"
   ]
  },
  {
   "cell_type": "markdown",
   "id": "d9dd2882",
   "metadata": {},
   "source": [
    "### Isdigit()\n",
    "\n",
    "If all characters are numbers it returns **True**, otherwise **False**"
   ]
  },
  {
   "cell_type": "code",
   "execution_count": 42,
   "id": "ecd5fa60",
   "metadata": {},
   "outputs": [
    {
     "data": {
      "text/plain": [
       "True"
      ]
     },
     "execution_count": 42,
     "metadata": {},
     "output_type": "execute_result"
    }
   ],
   "source": [
    "digitStr = \"123123\"\n",
    "\n",
    "digitStr.isdigit()"
   ]
  },
  {
   "cell_type": "code",
   "execution_count": 44,
   "id": "e44792a0",
   "metadata": {},
   "outputs": [
    {
     "data": {
      "text/plain": [
       "False"
      ]
     },
     "execution_count": 44,
     "metadata": {},
     "output_type": "execute_result"
    }
   ],
   "source": [
    "nonDigitStr = \"asdas123**asd.\"\n",
    "\n",
    "nonDigitStr.isdigit()"
   ]
  },
  {
   "cell_type": "markdown",
   "id": "a4bf9688",
   "metadata": {},
   "source": [
    "### Islower()\n",
    "\n",
    "If all letters in the string are lowercase, it returns **True**, otherwise **False**\n"
   ]
  },
  {
   "cell_type": "code",
   "execution_count": 45,
   "id": "789edf11",
   "metadata": {},
   "outputs": [
    {
     "data": {
      "text/plain": [
       "True"
      ]
     },
     "execution_count": 45,
     "metadata": {},
     "output_type": "execute_result"
    }
   ],
   "source": [
    "lowerStr = \"asdasaktbiasda!\"\n",
    "\n",
    "lowerStr.islower()"
   ]
  },
  {
   "cell_type": "code",
   "execution_count": 46,
   "id": "9e07f1f5",
   "metadata": {},
   "outputs": [
    {
     "data": {
      "text/plain": [
       "False"
      ]
     },
     "execution_count": 46,
     "metadata": {},
     "output_type": "execute_result"
    }
   ],
   "source": [
    "nonLowerStr = \"asdasdasdEasdas!\"\n",
    "\n",
    "nonLowerStr.islower()"
   ]
  },
  {
   "cell_type": "markdown",
   "id": "6a7423a6",
   "metadata": {},
   "source": [
    "### Isupper()\n",
    "\n",
    "If all letters in the string are uppercase, it returns **True**, otherwise **False**"
   ]
  },
  {
   "cell_type": "code",
   "execution_count": 47,
   "id": "5eb14d30",
   "metadata": {},
   "outputs": [
    {
     "data": {
      "text/plain": [
       "True"
      ]
     },
     "execution_count": 47,
     "metadata": {},
     "output_type": "execute_result"
    }
   ],
   "source": [
    "upperStr = \"ADSASDASDC!-\"\n",
    "\n",
    "upperStr.isupper()"
   ]
  },
  {
   "cell_type": "code",
   "execution_count": 48,
   "id": "b0d7f0be",
   "metadata": {},
   "outputs": [
    {
     "data": {
      "text/plain": [
       "False"
      ]
     },
     "execution_count": 48,
     "metadata": {},
     "output_type": "execute_result"
    }
   ],
   "source": [
    "nonUpperStr = \"ABBASASDx-!DASEC\"\n",
    "\n",
    "nonUpperStr.isupper()"
   ]
  },
  {
   "cell_type": "markdown",
   "id": "b76310d9",
   "metadata": {},
   "source": [
    "### Lstrip(characters), Rstrip(characters) and Strip(characters)\n",
    "\n",
    "- **lstrip(chars)** removes **leading characters**. If we don't provide characters, it removes whitespaces\n",
    "- **rstrip(chars)** removes **trailing characters**. If we don't provide characters, it removes whitespaces\n",
    "- **strip(chars)** removes **leading** and **trailing** characters. If we don't provide characters, it removes whitespaces."
   ]
  },
  {
   "cell_type": "code",
   "execution_count": 54,
   "id": "0bb86638",
   "metadata": {},
   "outputs": [
    {
     "data": {
      "text/plain": [
       "'This is an example String      '"
      ]
     },
     "execution_count": 54,
     "metadata": {},
     "output_type": "execute_result"
    }
   ],
   "source": [
    "stripExample = \"      This is an example String      \"\n",
    "\n",
    "stripExample.lstrip()"
   ]
  },
  {
   "cell_type": "code",
   "execution_count": 55,
   "id": "ac0263bf",
   "metadata": {},
   "outputs": [
    {
     "data": {
      "text/plain": [
       "'      This is an example String'"
      ]
     },
     "execution_count": 55,
     "metadata": {},
     "output_type": "execute_result"
    }
   ],
   "source": [
    "stripExample.rstrip()"
   ]
  },
  {
   "cell_type": "code",
   "execution_count": 56,
   "id": "22acac51",
   "metadata": {},
   "outputs": [
    {
     "data": {
      "text/plain": [
       "'This is an example String'"
      ]
     },
     "execution_count": 56,
     "metadata": {},
     "output_type": "execute_result"
    }
   ],
   "source": [
    "stripExample.strip()"
   ]
  },
  {
   "cell_type": "markdown",
   "id": "65857284",
   "metadata": {},
   "source": [
    "### Join(iterable)\n",
    "\n",
    "Join elements of an iterable, like a **list** (we will see lists in this lab), into a single string."
   ]
  },
  {
   "cell_type": "code",
   "execution_count": 57,
   "id": "df7e24f8",
   "metadata": {},
   "outputs": [
    {
     "name": "stdout",
     "output_type": "stream",
     "text": [
      "home/desktop/folder1\n"
     ]
    }
   ],
   "source": [
    "joinedString = '/'.join(['home', 'desktop', 'folder1'])\n",
    "\n",
    "print(joinedString)"
   ]
  },
  {
   "cell_type": "markdown",
   "id": "288be7c0",
   "metadata": {},
   "source": [
    "### Split(separator, maxsplit=-1)\n",
    "\n",
    "It returns list of substrings based on separator. If we don't pass values it splits based on whitespaces"
   ]
  },
  {
   "cell_type": "code",
   "execution_count": 58,
   "id": "c384e61d",
   "metadata": {},
   "outputs": [
    {
     "data": {
      "text/plain": [
       "['This', 'is', 'an', 'example', 'string', 'for', 'splitting']"
      ]
     },
     "execution_count": 58,
     "metadata": {},
     "output_type": "execute_result"
    }
   ],
   "source": [
    "splitExample = \"This is an example string for splitting\"\n",
    "\n",
    "splitExample.split()"
   ]
  },
  {
   "cell_type": "code",
   "execution_count": 59,
   "id": "0239fde6",
   "metadata": {},
   "outputs": [
    {
     "data": {
      "text/plain": [
       "['Th', 's is an example string for splitting']"
      ]
     },
     "execution_count": 59,
     "metadata": {},
     "output_type": "execute_result"
    }
   ],
   "source": [
    "splitExample.split('i',1)"
   ]
  },
  {
   "cell_type": "markdown",
   "id": "00450ca2",
   "metadata": {},
   "source": [
    "## Lists\n",
    "\n",
    "Lists in python are compound data types, we use it to group together other values in sequence"
   ]
  },
  {
   "cell_type": "code",
   "execution_count": 65,
   "id": "476f3bd0",
   "metadata": {},
   "outputs": [
    {
     "name": "stdout",
     "output_type": "stream",
     "text": [
      "[1, 2, 3, 4, 5]\n"
     ]
    }
   ],
   "source": [
    "# A list of integers\n",
    "list1 = [1,2,3,4,5]\n",
    "\n",
    "print(list1)"
   ]
  },
  {
   "cell_type": "code",
   "execution_count": 67,
   "id": "45e23a11",
   "metadata": {},
   "outputs": [
    {
     "name": "stdout",
     "output_type": "stream",
     "text": [
      "[1, 2, 3, [4, 5, 6], 7, 8]\n"
     ]
    }
   ],
   "source": [
    "# We can put lists inside lists (nested list)\n",
    "nestedList = [1,2,3,[4,5,6],7,8]\n",
    "\n",
    "print(nestedList)"
   ]
  },
  {
   "cell_type": "markdown",
   "id": "bd42e460",
   "metadata": {},
   "source": [
    "We can have different data types inside a list"
   ]
  },
  {
   "cell_type": "code",
   "execution_count": 68,
   "id": "124c9923",
   "metadata": {},
   "outputs": [
    {
     "name": "stdout",
     "output_type": "stream",
     "text": [
      "[1, 2, 3, 'asd', True, [5, 6, 7]]\n"
     ]
    }
   ],
   "source": [
    "typeList = [1,2,3,'asd', True, [5,6,7]]\n",
    "\n",
    "print(typeList)"
   ]
  },
  {
   "cell_type": "markdown",
   "id": "8b4d15a4",
   "metadata": {},
   "source": [
    "## List Methods\n",
    "\n",
    "Let's look at some methods\n",
    "\n",
    "### Len()\n",
    "\n",
    "Returns length of list"
   ]
  },
  {
   "cell_type": "code",
   "execution_count": 71,
   "id": "0f9efbb7",
   "metadata": {},
   "outputs": [
    {
     "data": {
      "text/plain": [
       "6"
      ]
     },
     "execution_count": 71,
     "metadata": {},
     "output_type": "execute_result"
    }
   ],
   "source": [
    "list2 = [1,2,3,4,5,6]\n",
    "\n",
    "len(list2)"
   ]
  },
  {
   "cell_type": "markdown",
   "id": "362961ea",
   "metadata": {},
   "source": [
    "### Append(item)\n",
    "\n",
    "It adds **item** to the list. It does not **return** anything! It changes the original list."
   ]
  },
  {
   "cell_type": "code",
   "execution_count": 72,
   "id": "0be1eef1",
   "metadata": {},
   "outputs": [
    {
     "name": "stdout",
     "output_type": "stream",
     "text": [
      "['ali', 'ayse', 'veli', 'kazim']\n"
     ]
    }
   ],
   "source": [
    "appendExample = ['ali', 'ayse', 'veli']\n",
    "\n",
    "appendExample.append('kazim')\n",
    "\n",
    "print(appendExample)"
   ]
  },
  {
   "cell_type": "code",
   "execution_count": 76,
   "id": "5c05dea6",
   "metadata": {},
   "outputs": [
    {
     "name": "stdout",
     "output_type": "stream",
     "text": [
      "[1, 5, [1, 2, 3], 9, True, 'mehmet', [1, 5, 7, 9]]\n"
     ]
    }
   ],
   "source": [
    "appendExample2 = [1,5, [1,2,3], 9, True, 'mehmet']\n",
    "\n",
    "appendExample2.append([1,5,7,9])\n",
    "\n",
    "print(appendExample2)"
   ]
  },
  {
   "cell_type": "markdown",
   "id": "822460d6",
   "metadata": {},
   "source": [
    "### Clear()\n",
    "\n",
    "Erases all elements from the list"
   ]
  },
  {
   "cell_type": "code",
   "execution_count": 77,
   "id": "c452124d",
   "metadata": {},
   "outputs": [
    {
     "name": "stdout",
     "output_type": "stream",
     "text": [
      "[]\n"
     ]
    }
   ],
   "source": [
    "clearExample = ['this', 'is', 'going', 'to', 'be', 0, True]\n",
    "\n",
    "clearExample.clear()\n",
    "\n",
    "print(clearExample)"
   ]
  },
  {
   "cell_type": "markdown",
   "id": "7bccaf76",
   "metadata": {},
   "source": [
    "### Count(val)\n",
    "\n",
    "Returns number of elements with specified value"
   ]
  },
  {
   "cell_type": "code",
   "execution_count": 78,
   "id": "a4656957",
   "metadata": {},
   "outputs": [
    {
     "data": {
      "text/plain": [
       "2"
      ]
     },
     "execution_count": 78,
     "metadata": {},
     "output_type": "execute_result"
    }
   ],
   "source": [
    "countExample = [1,1,1,1,2,3,4,4,5,10]\n",
    "\n",
    "countExample.count(4)"
   ]
  },
  {
   "cell_type": "markdown",
   "id": "6c2c8858",
   "metadata": {},
   "source": [
    "### Extend()\n",
    "\n",
    "Add elements of an iterable to the end of the list"
   ]
  },
  {
   "cell_type": "code",
   "execution_count": 79,
   "id": "fd5cb068",
   "metadata": {},
   "outputs": [
    {
     "name": "stdout",
     "output_type": "stream",
     "text": [
      "[1, 2, 3, [4, 5, 6], True, False, 'a', 1, 2, 3, 4, 'abdd', False, 1.2321]\n"
     ]
    }
   ],
   "source": [
    "extendExample = [1,2,3,[4,5,6], True, False, 'a']\n",
    "\n",
    "extendExample.extend([1,2,3,4,'abdd', False, 1.2321])\n",
    "\n",
    "print(extendExample)"
   ]
  },
  {
   "cell_type": "markdown",
   "id": "4f225c99",
   "metadata": {},
   "source": [
    "### Index(val)\n",
    "\n",
    "Returns index of the first element with specified value"
   ]
  },
  {
   "cell_type": "code",
   "execution_count": 80,
   "id": "d481e5ce",
   "metadata": {},
   "outputs": [
    {
     "data": {
      "text/plain": [
       "2"
      ]
     },
     "execution_count": 80,
     "metadata": {},
     "output_type": "execute_result"
    }
   ],
   "source": [
    "indexExample = ['ali', 'ahmet', True, False, 991]\n",
    "\n",
    "indexExample.index(True)"
   ]
  },
  {
   "cell_type": "code",
   "execution_count": 81,
   "id": "6097700a",
   "metadata": {},
   "outputs": [
    {
     "data": {
      "text/plain": [
       "4"
      ]
     },
     "execution_count": 81,
     "metadata": {},
     "output_type": "execute_result"
    }
   ],
   "source": [
    "indexExample.index(991)"
   ]
  },
  {
   "cell_type": "markdown",
   "id": "ffecbbdb",
   "metadata": {},
   "source": [
    "### Insert(position, element)\n",
    "\n",
    "Inserts **element** to a list in the **position** index"
   ]
  },
  {
   "cell_type": "code",
   "execution_count": 82,
   "id": "d7e19aea",
   "metadata": {},
   "outputs": [
    {
     "name": "stdout",
     "output_type": "stream",
     "text": [
      "['yellow', 'purple', 'blue', 'gray']\n"
     ]
    }
   ],
   "source": [
    "insertExample = ['yellow', 'blue', 'gray']\n",
    "\n",
    "insertExample.insert(1, \"purple\")\n",
    "\n",
    "print(insertExample)"
   ]
  },
  {
   "cell_type": "markdown",
   "id": "8eca7ddc",
   "metadata": {},
   "source": [
    "### Pop(position)\n",
    "\n",
    "Removes element from specified position. If position is not set, it removes the last element"
   ]
  },
  {
   "cell_type": "code",
   "execution_count": 83,
   "id": "5466c8eb",
   "metadata": {},
   "outputs": [
    {
     "name": "stdout",
     "output_type": "stream",
     "text": [
      "['a', 'b', 'c', 'd']\n"
     ]
    }
   ],
   "source": [
    "popExample = [\"a\", \"b\", \"c\", \"d\", \"e\"]\n",
    "\n",
    "popExample.pop()\n",
    "\n",
    "print(popExample)"
   ]
  },
  {
   "cell_type": "code",
   "execution_count": 84,
   "id": "09407586",
   "metadata": {},
   "outputs": [
    {
     "name": "stdout",
     "output_type": "stream",
     "text": [
      "['b', 'c', 'd']\n"
     ]
    }
   ],
   "source": [
    "popExample.pop(0)\n",
    "\n",
    "print(popExample)"
   ]
  },
  {
   "cell_type": "markdown",
   "id": "c9930368",
   "metadata": {},
   "source": [
    "### Remove(val)\n",
    "\n",
    "Removes the first occurence of the element with specified **val**"
   ]
  },
  {
   "cell_type": "code",
   "execution_count": 85,
   "id": "06e0bc6d",
   "metadata": {},
   "outputs": [
    {
     "name": "stdout",
     "output_type": "stream",
     "text": [
      "['r1', 'r2', 'r3', 'r4']\n"
     ]
    }
   ],
   "source": [
    "removeExample = [\"r1\", \"r2\", \"r3\", \"r3\", \"r4\"]\n",
    "\n",
    "removeExample.remove(\"r3\")\n",
    "\n",
    "print(removeExample)"
   ]
  },
  {
   "cell_type": "markdown",
   "id": "32ab2d6a",
   "metadata": {},
   "source": [
    "### Reverse()\n",
    "\n",
    "Reverses the order of elements inside the list"
   ]
  },
  {
   "cell_type": "code",
   "execution_count": 86,
   "id": "705d2369",
   "metadata": {},
   "outputs": [
    {
     "name": "stdout",
     "output_type": "stream",
     "text": [
      "[10, 9, 8, 7, 6, 5, 4, 3, 2, 1]\n"
     ]
    }
   ],
   "source": [
    "reverseExample = [1,2,3,4,5,6,7,8,9,10]\n",
    "\n",
    "reverseExample.reverse()\n",
    "\n",
    "print(reverseExample)"
   ]
  },
  {
   "cell_type": "markdown",
   "id": "94e27d19",
   "metadata": {},
   "source": [
    "### Sort(reverse, key)\n",
    "\n",
    "Sorts the list according to **reverse**. **reverse** is **False** by default, this means that sort will be ascending. If **True** it will be descending.\n",
    "\n",
    "**key** is a function that we can provide for sorting criterias. We did not see functions yet bet we will look at a very small example"
   ]
  },
  {
   "cell_type": "code",
   "execution_count": 87,
   "id": "6f5d412e",
   "metadata": {},
   "outputs": [
    {
     "name": "stdout",
     "output_type": "stream",
     "text": [
      "Ascending Sorted: [-1, 1, 2, 3, 5, 6, 7, 8, 9, 100, 90000]\n",
      "Descending Sorted: [90000, 100, 9, 8, 7, 6, 5, 3, 2, 1, -1]\n"
     ]
    }
   ],
   "source": [
    "sortList = [1,5,3,2,6,9,8,7,100,90000,-1]\n",
    "\n",
    "# Sort without arguments. Ascending sort\n",
    "sortList.sort()\n",
    "print(\"Ascending Sorted:\",sortList)\n",
    "\n",
    "# Sort descending\n",
    "sortList.sort(reverse=True)\n",
    "print(\"Descending Sorted:\",sortList)"
   ]
  },
  {
   "cell_type": "code",
   "execution_count": 89,
   "id": "71585913",
   "metadata": {},
   "outputs": [
    {
     "name": "stdout",
     "output_type": "stream",
     "text": [
      "['in', 'to', 'this', 'list', 'their', 'lengths', 'Elements', 'compared', 'according']\n"
     ]
    }
   ],
   "source": [
    "# We define a small function\n",
    "# we will look at functions in detail\n",
    "def compareLength(element):\n",
    "    return len(element)\n",
    "\n",
    "sortList2 = [\"Elements\", \"in\", \"this\", \"list\", \"compared\", \"according\", \"to\", \"their\", \"lengths\"]\n",
    "\n",
    "sortList2.sort(key=compareLength)\n",
    "\n",
    "print(sortList2)"
   ]
  },
  {
   "cell_type": "markdown",
   "id": "10f07735",
   "metadata": {},
   "source": [
    "## List operators\n",
    "\n",
    "Similar to strings, we can use operators on lists too.\n",
    "\n",
    "### + Operator\n",
    "\n",
    "With **+** operator, we can add lists"
   ]
  },
  {
   "cell_type": "code",
   "execution_count": 90,
   "id": "7eed7ea6",
   "metadata": {},
   "outputs": [
    {
     "name": "stdout",
     "output_type": "stream",
     "text": [
      "[1, 2, 3, 4, 5, 6]\n"
     ]
    }
   ],
   "source": [
    "list1 = [1,2,3]\n",
    "list2 = [4,5,6]\n",
    "\n",
    "result = list1 + list2\n",
    "\n",
    "print(result)"
   ]
  },
  {
   "cell_type": "markdown",
   "id": "07fd5dbe",
   "metadata": {},
   "source": [
    "### * Operator\n",
    "\n",
    "Similar to strings;"
   ]
  },
  {
   "cell_type": "code",
   "execution_count": 92,
   "id": "1b8263de",
   "metadata": {},
   "outputs": [
    {
     "name": "stdout",
     "output_type": "stream",
     "text": [
      "[1, 1, 1, 1, 1, 1, 1, 1, 1, 1]\n"
     ]
    }
   ],
   "source": [
    "list1 = [1]\n",
    "\n",
    "result = list1 * 10\n",
    "\n",
    "print(result)"
   ]
  },
  {
   "cell_type": "markdown",
   "id": "0d27f152",
   "metadata": {},
   "source": [
    "### in Operator\n",
    "\n",
    "It returns **True** if left value is inside the list"
   ]
  },
  {
   "cell_type": "code",
   "execution_count": 93,
   "id": "c452b210",
   "metadata": {},
   "outputs": [
    {
     "data": {
      "text/plain": [
       "True"
      ]
     },
     "execution_count": 93,
     "metadata": {},
     "output_type": "execute_result"
    }
   ],
   "source": [
    "inExample = ['tomato', 'carrot', 'banana']\n",
    "\n",
    "'banana' in inExample"
   ]
  },
  {
   "cell_type": "code",
   "execution_count": 94,
   "id": "cb12ff04",
   "metadata": {},
   "outputs": [
    {
     "data": {
      "text/plain": [
       "False"
      ]
     },
     "execution_count": 94,
     "metadata": {},
     "output_type": "execute_result"
    }
   ],
   "source": [
    "'apple' in inExample"
   ]
  },
  {
   "cell_type": "markdown",
   "id": "cf583e6e",
   "metadata": {},
   "source": [
    "### not in Operator\n",
    "\n",
    "It returns **True** if left value is not inside the list"
   ]
  },
  {
   "cell_type": "code",
   "execution_count": 96,
   "id": "d3199a50",
   "metadata": {},
   "outputs": [
    {
     "data": {
      "text/plain": [
       "True"
      ]
     },
     "execution_count": 96,
     "metadata": {},
     "output_type": "execute_result"
    }
   ],
   "source": [
    "'apple' not in inExample"
   ]
  },
  {
   "cell_type": "markdown",
   "id": "738b3f4c",
   "metadata": {},
   "source": [
    "### Del operator\n",
    "\n",
    "Deletes the element inside list"
   ]
  },
  {
   "cell_type": "code",
   "execution_count": 95,
   "id": "20167909",
   "metadata": {},
   "outputs": [
    {
     "name": "stdout",
     "output_type": "stream",
     "text": [
      "['el1', 'el3', 'el4']\n"
     ]
    }
   ],
   "source": [
    "delExample = [\"el1\", \"el2\", \"el3\", \"el4\"]\n",
    "\n",
    "del delExample[1]\n",
    "\n",
    "print(delExample)"
   ]
  },
  {
   "cell_type": "markdown",
   "id": "1c67d326",
   "metadata": {},
   "source": [
    "### We can make lists from Strings\n",
    "\n",
    "We saw that in strings part, lets do it again"
   ]
  },
  {
   "cell_type": "code",
   "execution_count": 97,
   "id": "2d7f794c",
   "metadata": {},
   "outputs": [
    {
     "name": "stdout",
     "output_type": "stream",
     "text": [
      "['ceng111', 'ceng100', 'ceng213', 'ceng140', 'ceng331', 'ceng334']\n"
     ]
    }
   ],
   "source": [
    "exampleString = \"ceng111,ceng100,ceng213,ceng140,ceng331,ceng334\"\n",
    "\n",
    "courseList = exampleString.split(',')\n",
    "\n",
    "print(courseList)"
   ]
  },
  {
   "cell_type": "markdown",
   "id": "c0b95b16",
   "metadata": {},
   "source": [
    "### Slicing\n",
    "\n",
    "List/Tuple slicing is the same as string slicing. In addition to strings, lists also support item/slice assignment so it is not immutable like **string** and **tuple**"
   ]
  },
  {
   "cell_type": "code",
   "execution_count": 98,
   "id": "4bfaed62",
   "metadata": {},
   "outputs": [
    {
     "name": "stdout",
     "output_type": "stream",
     "text": [
      "[6, 2, 3, 4]\n"
     ]
    }
   ],
   "source": [
    "a = [1,2,3,4]\n",
    "\n",
    "a[0] = 6\n",
    "\n",
    "print(a)"
   ]
  },
  {
   "cell_type": "code",
   "execution_count": 99,
   "id": "77ba5f0c",
   "metadata": {},
   "outputs": [
    {
     "name": "stdout",
     "output_type": "stream",
     "text": [
      "[6, 'ce', 'ng', '111']\n"
     ]
    }
   ],
   "source": [
    "a[1:4] = ['ce','ng','111']\n",
    "\n",
    "print(a)"
   ]
  },
  {
   "cell_type": "markdown",
   "id": "06cce626",
   "metadata": {},
   "source": [
    "### List assignment\n",
    "\n",
    "We can assign lists to another variables. But we have a little problem here. It is called **aliasing problem**\n",
    "\n",
    "For example let's think;"
   ]
  },
  {
   "cell_type": "code",
   "execution_count": 100,
   "id": "fb68b077",
   "metadata": {},
   "outputs": [
    {
     "name": "stdout",
     "output_type": "stream",
     "text": [
      "[3, 4, 5]\n"
     ]
    }
   ],
   "source": [
    "a = [3,4,5]\n",
    "\n",
    "b = a\n",
    "\n",
    "c = a\n",
    "\n",
    "print(b)"
   ]
  },
  {
   "cell_type": "markdown",
   "id": "51a8013f",
   "metadata": {},
   "source": [
    "We have list **a** and we assigned it to **b** and **c**. Lets add `6` to **a** and check **b** and **c**"
   ]
  },
  {
   "cell_type": "code",
   "execution_count": 101,
   "id": "b034f9c1",
   "metadata": {},
   "outputs": [
    {
     "name": "stdout",
     "output_type": "stream",
     "text": [
      "b is: [3, 4, 5, 6]\n",
      "c is: [3, 4, 5, 6]\n"
     ]
    }
   ],
   "source": [
    "a.append(6)\n",
    "\n",
    "print(\"b is:\", b)\n",
    "\n",
    "print(\"c is:\", c)"
   ]
  },
  {
   "cell_type": "markdown",
   "id": "b9dfb038",
   "metadata": {},
   "source": [
    "You see that **b** and **c** is also changed. Why is that happening?\n",
    "\n",
    "The reason is, if we assign a list, it does not actually copy everthing in it. It copies the **address** of that list. How can we solve this?"
   ]
  },
  {
   "cell_type": "code",
   "execution_count": 106,
   "id": "7c37b995",
   "metadata": {},
   "outputs": [
    {
     "name": "stdout",
     "output_type": "stream",
     "text": [
      "[3, ['a', 'b'], 5]\n"
     ]
    }
   ],
   "source": [
    "# We can make empty slicing because it returns a copy\n",
    "a = [3,[\"a\",\"b\"], 5]\n",
    "b = a[:]\n",
    "\n",
    "print(a)"
   ]
  },
  {
   "cell_type": "code",
   "execution_count": 107,
   "id": "9d612b81",
   "metadata": {},
   "outputs": [
    {
     "name": "stdout",
     "output_type": "stream",
     "text": [
      "[3, ['a', 'b'], 5]\n"
     ]
    }
   ],
   "source": [
    "print(b)"
   ]
  },
  {
   "cell_type": "code",
   "execution_count": 108,
   "id": "6a3fd640",
   "metadata": {},
   "outputs": [
    {
     "name": "stdout",
     "output_type": "stream",
     "text": [
      "[3, ['a', 'b'], 5, 6]\n"
     ]
    }
   ],
   "source": [
    "a.append(6)\n",
    "print(a)"
   ]
  },
  {
   "cell_type": "code",
   "execution_count": 109,
   "id": "2928f319",
   "metadata": {},
   "outputs": [
    {
     "name": "stdout",
     "output_type": "stream",
     "text": [
      "[3, ['a', 'b'], 5]\n"
     ]
    }
   ],
   "source": [
    "print(b)"
   ]
  },
  {
   "cell_type": "markdown",
   "id": "df204ef3",
   "metadata": {},
   "source": [
    "We don't have 6 in b. It looks like it is working. But we still have a problem.\n",
    "\n",
    "Slicing does not do deep copying, for example;"
   ]
  },
  {
   "cell_type": "code",
   "execution_count": 110,
   "id": "9d1758f2",
   "metadata": {},
   "outputs": [
    {
     "name": "stdout",
     "output_type": "stream",
     "text": [
      "[3, ['a', 'b', 'c'], 5]\n"
     ]
    }
   ],
   "source": [
    "a = [3, [\"a\", \"b\"], 5]\n",
    "b = a[:]\n",
    "\n",
    "a[1].append('c')\n",
    "print(a)"
   ]
  },
  {
   "cell_type": "code",
   "execution_count": 111,
   "id": "e7dbf79d",
   "metadata": {},
   "outputs": [
    {
     "name": "stdout",
     "output_type": "stream",
     "text": [
      "[3, ['a', 'b', 'c'], 5]\n"
     ]
    }
   ],
   "source": [
    "print(b)"
   ]
  },
  {
   "cell_type": "markdown",
   "id": "73a0c80a",
   "metadata": {},
   "source": [
    "`c` is also added in list b. Because when we sliced **a** and assigned it to **b**, we again copied the address of the nested list `[\"a\",\"b\"]`. So, when we added `c` to that list in **a**, it is also added in **b**. This is called **shallow copy**.\n",
    "\n",
    "So, how to do deep copy?"
   ]
  },
  {
   "cell_type": "code",
   "execution_count": 114,
   "id": "02a038be",
   "metadata": {},
   "outputs": [
    {
     "name": "stdout",
     "output_type": "stream",
     "text": [
      "[3, ['a', 'b', 'c'], 5]\n"
     ]
    }
   ],
   "source": [
    "# We will learn about imports later\n",
    "import copy\n",
    "\n",
    "a = [3, [\"a\",\"b\"], 5]\n",
    "\n",
    "b = copy.deepcopy(a)\n",
    "\n",
    "a[1].append('c')\n",
    "print(a)"
   ]
  },
  {
   "cell_type": "code",
   "execution_count": 115,
   "id": "e36e0df7",
   "metadata": {},
   "outputs": [
    {
     "name": "stdout",
     "output_type": "stream",
     "text": [
      "[3, ['a', 'b'], 5]\n"
     ]
    }
   ],
   "source": [
    "print(b)"
   ]
  },
  {
   "cell_type": "markdown",
   "id": "3467e920",
   "metadata": {},
   "source": [
    "## Tuples\n",
    "\n",
    "Tuples are similar to lists but they are **immutable** like **strings** unlike **lists**"
   ]
  },
  {
   "cell_type": "code",
   "execution_count": 116,
   "id": "f1c5671d",
   "metadata": {},
   "outputs": [
    {
     "data": {
      "text/plain": [
       "1"
      ]
     },
     "execution_count": 116,
     "metadata": {},
     "output_type": "execute_result"
    }
   ],
   "source": [
    "tuple1 = (1,2,3)\n",
    "\n",
    "tuple1[0]"
   ]
  },
  {
   "cell_type": "code",
   "execution_count": 117,
   "id": "235c937f",
   "metadata": {},
   "outputs": [
    {
     "ename": "TypeError",
     "evalue": "'tuple' object does not support item assignment",
     "output_type": "error",
     "traceback": [
      "\u001b[0;31m---------------------------------------------------------------------------\u001b[0m",
      "\u001b[0;31mTypeError\u001b[0m                                 Traceback (most recent call last)",
      "\u001b[0;32m<ipython-input-117-8f8834d0d1a3>\u001b[0m in \u001b[0;36m<module>\u001b[0;34m\u001b[0m\n\u001b[0;32m----> 1\u001b[0;31m \u001b[0mtuple1\u001b[0m\u001b[0;34m[\u001b[0m\u001b[0;36m0\u001b[0m\u001b[0;34m]\u001b[0m \u001b[0;34m=\u001b[0m \u001b[0;36m100\u001b[0m\u001b[0;34m\u001b[0m\u001b[0;34m\u001b[0m\u001b[0m\n\u001b[0m",
      "\u001b[0;31mTypeError\u001b[0m: 'tuple' object does not support item assignment"
     ]
    }
   ],
   "source": [
    "tuple1[0] = 100"
   ]
  },
  {
   "cell_type": "markdown",
   "id": "fecb42a9",
   "metadata": {},
   "source": [
    "We don't need paranthesis to make a tuple. Only commas (,) are enough"
   ]
  },
  {
   "cell_type": "code",
   "execution_count": 118,
   "id": "991e92a2",
   "metadata": {},
   "outputs": [
    {
     "data": {
      "text/plain": [
       "tuple"
      ]
     },
     "execution_count": 118,
     "metadata": {},
     "output_type": "execute_result"
    }
   ],
   "source": [
    "tuple2 = 1,2\n",
    "\n",
    "type(tuple2)"
   ]
  },
  {
   "cell_type": "markdown",
   "id": "b9e2c850",
   "metadata": {},
   "source": [
    "## Tuple Unpacking\n"
   ]
  },
  {
   "cell_type": "code",
   "execution_count": 119,
   "id": "b5583799",
   "metadata": {},
   "outputs": [
    {
     "name": "stdout",
     "output_type": "stream",
     "text": [
      "2098929\n",
      "e2098929\n"
     ]
    }
   ],
   "source": [
    "student = ('2098929','e2098929','Eren','Dere','Ceng')\n",
    "\n",
    "sid = student[0]\n",
    "username = student[1]\n",
    "\n",
    "print(sid)\n",
    "print(username)"
   ]
  },
  {
   "cell_type": "code",
   "execution_count": 120,
   "id": "2b0b3438",
   "metadata": {},
   "outputs": [
    {
     "name": "stdout",
     "output_type": "stream",
     "text": [
      "Eren\n"
     ]
    }
   ],
   "source": [
    "sid, username, firstname, lastname, department = student\n",
    "\n",
    "print(firstname)"
   ]
  },
  {
   "cell_type": "code",
   "execution_count": 121,
   "id": "134be079",
   "metadata": {},
   "outputs": [
    {
     "name": "stdout",
     "output_type": "stream",
     "text": [
      "Dere\n"
     ]
    }
   ],
   "source": [
    "print(lastname)"
   ]
  },
  {
   "cell_type": "markdown",
   "id": "1bdfe387",
   "metadata": {},
   "source": [
    "## Swap by tuple assignment\n",
    "\n",
    "We can swap variables using tuple assignment like this;"
   ]
  },
  {
   "cell_type": "code",
   "execution_count": 122,
   "id": "cddee200",
   "metadata": {},
   "outputs": [
    {
     "name": "stdout",
     "output_type": "stream",
     "text": [
      "7\n"
     ]
    }
   ],
   "source": [
    "a = 5\n",
    "b = 7\n",
    "a,b = b,a\n",
    "\n",
    "print(a)"
   ]
  },
  {
   "cell_type": "code",
   "execution_count": 123,
   "id": "5d399ee6",
   "metadata": {},
   "outputs": [
    {
     "name": "stdout",
     "output_type": "stream",
     "text": [
      "5\n"
     ]
    }
   ],
   "source": [
    "print(b)"
   ]
  },
  {
   "cell_type": "markdown",
   "id": "5545ae39",
   "metadata": {},
   "source": [
    "### Tuple with single element\n"
   ]
  },
  {
   "cell_type": "code",
   "execution_count": 124,
   "id": "57c689c6",
   "metadata": {},
   "outputs": [
    {
     "data": {
      "text/plain": [
       "int"
      ]
     },
     "execution_count": 124,
     "metadata": {},
     "output_type": "execute_result"
    }
   ],
   "source": [
    "t = (4)\n",
    "type(t)"
   ]
  },
  {
   "cell_type": "markdown",
   "id": "71b2dafc",
   "metadata": {},
   "source": [
    "It's type is an int, but if we do"
   ]
  },
  {
   "cell_type": "code",
   "execution_count": 125,
   "id": "4dbe0c72",
   "metadata": {},
   "outputs": [
    {
     "data": {
      "text/plain": [
       "tuple"
      ]
     },
     "execution_count": 125,
     "metadata": {},
     "output_type": "execute_result"
    }
   ],
   "source": [
    "t = (4,)\n",
    "type(t)"
   ]
  },
  {
   "cell_type": "markdown",
   "id": "fc0936fd",
   "metadata": {},
   "source": [
    "It becomes a tuple."
   ]
  },
  {
   "cell_type": "markdown",
   "id": "b95e0045",
   "metadata": {},
   "source": [
    "## Len()\n",
    "\n",
    "Len can be used to learn tuple element count"
   ]
  },
  {
   "cell_type": "code",
   "execution_count": 126,
   "id": "98cccc06",
   "metadata": {},
   "outputs": [
    {
     "data": {
      "text/plain": [
       "3"
      ]
     },
     "execution_count": 126,
     "metadata": {},
     "output_type": "execute_result"
    }
   ],
   "source": [
    "a = (1,2,3)\n",
    "len(a)"
   ]
  },
  {
   "cell_type": "markdown",
   "id": "14faac32",
   "metadata": {},
   "source": [
    "## Type conversion\n",
    "\n",
    "**Lists** and **Strings** can be converted to tuple using **tuple()** method"
   ]
  },
  {
   "cell_type": "code",
   "execution_count": 127,
   "id": "d66dd42c",
   "metadata": {},
   "outputs": [
    {
     "name": "stdout",
     "output_type": "stream",
     "text": [
      "(1, 2, 3, 4, 5)\n"
     ]
    }
   ],
   "source": [
    "a = [1,2,3,4,5]\n",
    "b = tuple(a)\n",
    "\n",
    "print(b)"
   ]
  },
  {
   "cell_type": "code",
   "execution_count": 128,
   "id": "d8facebd",
   "metadata": {},
   "outputs": [
    {
     "name": "stdout",
     "output_type": "stream",
     "text": [
      "('c', 'e', 'n', 'g', '1', '1', '1')\n"
     ]
    }
   ],
   "source": [
    "a = \"ceng111\"\n",
    "b = tuple(a)\n",
    "\n",
    "print(b)"
   ]
  },
  {
   "cell_type": "markdown",
   "id": "0c5d7c7f",
   "metadata": {},
   "source": [
    "Similarly, tuples can be converted to lits using **list()** method"
   ]
  },
  {
   "cell_type": "code",
   "execution_count": 129,
   "id": "5c4ca4ba",
   "metadata": {},
   "outputs": [
    {
     "name": "stdout",
     "output_type": "stream",
     "text": [
      "['C', 'E', 'N', 'G']\n"
     ]
    }
   ],
   "source": [
    "a = ('C','E','N','G')\n",
    "b = list(a)\n",
    "print(b)"
   ]
  },
  {
   "cell_type": "markdown",
   "id": "9c4e578e",
   "metadata": {},
   "source": [
    "# LAB EXERCISES\n",
    "\n",
    "From now on, we will look at some exercises\n",
    "\n",
    "Answers will be written in this document but normally. You need to create requested files and write code to these files. And then type `python3 filename.py` in terminal to run them.\n",
    "\n",
    "\n",
    "## Reverse.py\n",
    "\n",
    "Write a script named `reverse.py` that reads a string from the user and prints **True** if the string is a **palindrome**. Palindrome's are strings with reversed versions equal to original ones."
   ]
  },
  {
   "cell_type": "code",
   "execution_count": 132,
   "id": "d59723c6",
   "metadata": {},
   "outputs": [
    {
     "name": "stdout",
     "output_type": "stream",
     "text": [
      "Give A String: racecar\n",
      "True\n"
     ]
    }
   ],
   "source": [
    "# reverse.py\n",
    "\n",
    "inp = input('Give A String: ')\n",
    "print(inp == inp[::-1])"
   ]
  },
  {
   "cell_type": "markdown",
   "id": "b24ed049",
   "metadata": {},
   "source": [
    "## Words.py\n",
    "\n",
    "Write a script named `words.py` that reads a sentence composed of three words and prints each word in separate lines."
   ]
  },
  {
   "cell_type": "code",
   "execution_count": 134,
   "id": "a1e8e28d",
   "metadata": {},
   "outputs": [
    {
     "name": "stdout",
     "output_type": "stream",
     "text": [
      "Give a sentence with 3 words: hello from end!\n",
      "hello\n",
      "from\n",
      "end!\n"
     ]
    }
   ],
   "source": [
    "# words.py\n",
    "sentence = input(\"Give a sentence with 3 words: \")\n",
    "\n",
    "first = sentence.find(' ')\n",
    "print(sentence[:first])\n",
    "\n",
    "second = sentence[first+1:].find(' ')\n",
    "print(sentence[first+1:first+second+1])\n",
    "\n",
    "print(sentence[first+second+2:])"
   ]
  }
 ],
 "metadata": {
  "kernelspec": {
   "display_name": "Python 3",
   "language": "python",
   "name": "python3"
  },
  "language_info": {
   "codemirror_mode": {
    "name": "ipython",
    "version": 3
   },
   "file_extension": ".py",
   "mimetype": "text/x-python",
   "name": "python",
   "nbconvert_exporter": "python",
   "pygments_lexer": "ipython3",
   "version": "3.6.13"
  }
 },
 "nbformat": 4,
 "nbformat_minor": 5
}
