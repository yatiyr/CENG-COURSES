{
  "metadata": {
    "kernelspec": {
      "name": "python",
      "display_name": "Python (Pyodide)",
      "language": "python"
    },
    "language_info": {
      "codemirror_mode": {
        "name": "python",
        "version": 3
      },
      "file_extension": ".py",
      "mimetype": "text/x-python",
      "name": "python",
      "nbconvert_exporter": "python",
      "pygments_lexer": "ipython3",
      "version": "3.8"
    }
  },
  "nbformat_minor": 5,
  "nbformat": 4,
  "cells": [
    {
      "cell_type": "markdown",
      "source": "# LAB 6\n\nIn this lab, we are going to look at **strings**, **lists** and **tuples**\n\n## Strings\n\nStrings are sequences of characters. With numerical indexes we can access individual characters.\n\n### Indexing\n\nAbout indexing;\n\n- Indexing starts counting from 0\n- There are negative indices, they count from right to left and start with -1\n- We use square bracket notation.\n\nFor example let's think we have an example string and we want to check its characters with indexing;",
      "metadata": {},
      "id": "f6008af4"
    },
    {
      "cell_type": "markdown",
      "source": "Strings are immutable types, so we cannot change individual characters like;",
      "metadata": {},
      "id": "928c3184"
    },
    {
      "cell_type": "code",
      "source": "",
      "metadata": {
        "scrolled": true
      },
      "execution_count": null,
      "outputs": [],
      "id": "e620e10e"
    },
    {
      "cell_type": "code",
      "source": "",
      "metadata": {},
      "execution_count": null,
      "outputs": [],
      "id": "7a1eb1f9"
    },
    {
      "cell_type": "markdown",
      "source": "### Immutable Issue\n\nStrings are immutable, so we cannot change its individual characters like;",
      "metadata": {},
      "id": "197b21cc"
    },
    {
      "cell_type": "code",
      "source": "",
      "metadata": {
        "scrolled": true
      },
      "execution_count": null,
      "outputs": [],
      "id": "169c4532"
    },
    {
      "cell_type": "markdown",
      "source": "For that, we need to create a new string",
      "metadata": {},
      "id": "d3c73813"
    },
    {
      "cell_type": "code",
      "source": "",
      "metadata": {},
      "execution_count": null,
      "outputs": [],
      "id": "f7560674"
    },
    {
      "cell_type": "markdown",
      "source": "### String Slicing\n\nBy using square bracket notation `[ ]`, we can take a slice of our strings. We declare;\n\n- **Start** is index where slice starts. Default **0**\n- **Stop** is where slice stops. This index is not included. Default is **length of string**\n- **Step** tells how many characters to jump while going start to stop. Default is **1**\n\nin the square brackets using `:` between them.\n\nThe notation will be like `stringVariable[start:stop:step]`\n\nFor example we have the string;",
      "metadata": {},
      "id": "c17727ae"
    },
    {
      "cell_type": "code",
      "source": "",
      "metadata": {},
      "execution_count": null,
      "outputs": [],
      "id": "13978025"
    },
    {
      "cell_type": "code",
      "source": "",
      "metadata": {},
      "execution_count": null,
      "outputs": [],
      "id": "530e2e8d"
    },
    {
      "cell_type": "code",
      "source": "",
      "metadata": {},
      "execution_count": null,
      "outputs": [],
      "id": "04a63568"
    },
    {
      "cell_type": "code",
      "source": "",
      "metadata": {},
      "execution_count": null,
      "outputs": [],
      "id": "da4e06b9"
    },
    {
      "cell_type": "code",
      "source": "",
      "metadata": {},
      "execution_count": null,
      "outputs": [],
      "id": "8f5864b5"
    },
    {
      "cell_type": "code",
      "source": "",
      "metadata": {},
      "execution_count": null,
      "outputs": [],
      "id": "16dc8797"
    },
    {
      "cell_type": "markdown",
      "source": "## String operators\n\n**+** operator concatenates the operands. Adds right operand to the left one.\n\nFor example;",
      "metadata": {},
      "id": "71a6b9c8"
    },
    {
      "cell_type": "code",
      "source": "",
      "metadata": {},
      "execution_count": null,
      "outputs": [],
      "id": "9021fbf2"
    },
    {
      "cell_type": "markdown",
      "source": "**\\*** operator takes a string **s** and an integer **i** as operands. It returns a new string which is **i** times **s** added\n\nFor example;",
      "metadata": {},
      "id": "770eb004"
    },
    {
      "cell_type": "code",
      "source": "",
      "metadata": {},
      "execution_count": null,
      "outputs": [],
      "id": "f9fe646e"
    },
    {
      "cell_type": "code",
      "source": "",
      "metadata": {},
      "execution_count": null,
      "outputs": [],
      "id": "d22510f0"
    },
    {
      "cell_type": "markdown",
      "source": "## String Methods\n\nStrings methods do not change the actual string. They return a copy of the string.\n\n\n\n### Capitalize()\n\nMakes first character upper and others lower;",
      "metadata": {},
      "id": "34f5916f"
    },
    {
      "cell_type": "code",
      "source": "",
      "metadata": {},
      "execution_count": null,
      "outputs": [],
      "id": "3d01b7e8"
    },
    {
      "cell_type": "markdown",
      "source": "### Lower()\n\nConverts all letters to lowercase",
      "metadata": {},
      "id": "fd1f15ae"
    },
    {
      "cell_type": "code",
      "source": "",
      "metadata": {},
      "execution_count": null,
      "outputs": [],
      "id": "5ee18ffe"
    },
    {
      "cell_type": "markdown",
      "source": "### Upper()\n\nConverts all letters to uppercase",
      "metadata": {},
      "id": "a583cfa9"
    },
    {
      "cell_type": "code",
      "source": "",
      "metadata": {},
      "execution_count": null,
      "outputs": [],
      "id": "25abe011"
    },
    {
      "cell_type": "markdown",
      "source": "### Len()\n\nReturns the length of a string. It is not a special method for strings it applies to lists etc. as well",
      "metadata": {},
      "id": "aaf85b5b"
    },
    {
      "cell_type": "code",
      "source": "",
      "metadata": {},
      "execution_count": null,
      "outputs": [],
      "id": "2bf0c903"
    },
    {
      "cell_type": "markdown",
      "source": "### Title()\n\nConverts **first letters** of each word to uppercase and others to lowercase",
      "metadata": {},
      "id": "02f3737e"
    },
    {
      "cell_type": "code",
      "source": "",
      "metadata": {},
      "execution_count": null,
      "outputs": [],
      "id": "9cce7cd0"
    },
    {
      "cell_type": "markdown",
      "source": "### Swapcase()\n\nSwaps cases of all letters",
      "metadata": {},
      "id": "473dfc5f"
    },
    {
      "cell_type": "code",
      "source": "",
      "metadata": {},
      "execution_count": null,
      "outputs": [],
      "id": "6304ad61"
    },
    {
      "cell_type": "markdown",
      "source": "### Count(substring, start, end)\n\nThis method returns number of time **substring** occurs in a string.",
      "metadata": {},
      "id": "fe57f748"
    },
    {
      "cell_type": "code",
      "source": "",
      "metadata": {},
      "execution_count": null,
      "outputs": [],
      "id": "5d600e8d"
    },
    {
      "cell_type": "code",
      "source": "",
      "metadata": {},
      "execution_count": null,
      "outputs": [],
      "id": "709daa12"
    },
    {
      "cell_type": "code",
      "source": "",
      "metadata": {},
      "execution_count": null,
      "outputs": [],
      "id": "1849e593"
    },
    {
      "cell_type": "code",
      "source": "",
      "metadata": {},
      "execution_count": null,
      "outputs": [],
      "id": "ab0f1c66"
    },
    {
      "cell_type": "code",
      "source": "",
      "metadata": {},
      "execution_count": null,
      "outputs": [],
      "id": "6df94350"
    },
    {
      "cell_type": "code",
      "source": "",
      "metadata": {},
      "execution_count": null,
      "outputs": [],
      "id": "58bdc06e"
    },
    {
      "cell_type": "markdown",
      "source": "### Find(substring, start, end)\n\nReturns the index where **substring** first occured in the string. If it is not found, it returns **-1**",
      "metadata": {},
      "id": "6efd57ac"
    },
    {
      "cell_type": "code",
      "source": "",
      "metadata": {},
      "execution_count": null,
      "outputs": [],
      "id": "2b216987"
    },
    {
      "cell_type": "code",
      "source": "",
      "metadata": {},
      "execution_count": null,
      "outputs": [],
      "id": "968b954b"
    },
    {
      "cell_type": "code",
      "source": "",
      "metadata": {},
      "execution_count": null,
      "outputs": [],
      "id": "a2c3742b"
    },
    {
      "cell_type": "markdown",
      "source": "### Isalnum()\n\nIf all characters are letters and numbers it returns **True**, otherwise **False**",
      "metadata": {},
      "id": "ce77e67d"
    },
    {
      "cell_type": "code",
      "source": "",
      "metadata": {},
      "execution_count": null,
      "outputs": [],
      "id": "f8c93382"
    },
    {
      "cell_type": "code",
      "source": "",
      "metadata": {},
      "execution_count": null,
      "outputs": [],
      "id": "2d17f8b1"
    },
    {
      "cell_type": "markdown",
      "source": "### Isalpha\n\nIf all characters are letters it returns **True**, otherwise **False**",
      "metadata": {},
      "id": "a02a1f36"
    },
    {
      "cell_type": "code",
      "source": "",
      "metadata": {},
      "execution_count": null,
      "outputs": [],
      "id": "e27549d9"
    },
    {
      "cell_type": "code",
      "source": "",
      "metadata": {},
      "execution_count": null,
      "outputs": [],
      "id": "6912d99d"
    },
    {
      "cell_type": "markdown",
      "source": "### Isdigit()\n\nIf all characters are numbers it returns **True**, otherwise **False**",
      "metadata": {},
      "id": "d9dd2882"
    },
    {
      "cell_type": "code",
      "source": "",
      "metadata": {},
      "execution_count": null,
      "outputs": [],
      "id": "ecd5fa60"
    },
    {
      "cell_type": "code",
      "source": "",
      "metadata": {},
      "execution_count": null,
      "outputs": [],
      "id": "e44792a0"
    },
    {
      "cell_type": "markdown",
      "source": "### Islower()\n\nIf all letters in the string are lowercase, it returns **True**, otherwise **False**\n",
      "metadata": {},
      "id": "a4bf9688"
    },
    {
      "cell_type": "code",
      "source": "",
      "metadata": {},
      "execution_count": null,
      "outputs": [],
      "id": "789edf11"
    },
    {
      "cell_type": "code",
      "source": "",
      "metadata": {},
      "execution_count": null,
      "outputs": [],
      "id": "9e07f1f5"
    },
    {
      "cell_type": "markdown",
      "source": "### Isupper()\n\nIf all letters in the string are uppercase, it returns **True**, otherwise **False**",
      "metadata": {},
      "id": "6a7423a6"
    },
    {
      "cell_type": "code",
      "source": "",
      "metadata": {},
      "execution_count": null,
      "outputs": [],
      "id": "5eb14d30"
    },
    {
      "cell_type": "code",
      "source": "",
      "metadata": {},
      "execution_count": null,
      "outputs": [],
      "id": "b0d7f0be"
    },
    {
      "cell_type": "markdown",
      "source": "### Lstrip(characters), Rstrip(characters) and Strip(characters)\n\n- **lstrip(chars)** removes **leading characters**. If we don't provide characters, it removes whitespaces\n- **rstrip(chars)** removes **trailing characters**. If we don't provide characters, it removes whitespaces\n- **strip(chars)** removes **leading** and **trailing** characters. If we don't provide characters, it removes whitespaces.",
      "metadata": {},
      "id": "b76310d9"
    },
    {
      "cell_type": "code",
      "source": "",
      "metadata": {},
      "execution_count": null,
      "outputs": [],
      "id": "0bb86638"
    },
    {
      "cell_type": "code",
      "source": "",
      "metadata": {},
      "execution_count": null,
      "outputs": [],
      "id": "ac0263bf"
    },
    {
      "cell_type": "code",
      "source": "",
      "metadata": {},
      "execution_count": null,
      "outputs": [],
      "id": "22acac51"
    },
    {
      "cell_type": "markdown",
      "source": "### Join(iterable)\n\nJoin elements of an iterable, like a **list** (we will see lists in this lab), into a single string.",
      "metadata": {},
      "id": "65857284"
    },
    {
      "cell_type": "code",
      "source": "",
      "metadata": {},
      "execution_count": null,
      "outputs": [],
      "id": "df7e24f8"
    },
    {
      "cell_type": "markdown",
      "source": "### Split(separator, maxsplit=-1)\n\nIt returns list of substrings based on separator. If we don't pass values it splits based on whitespaces",
      "metadata": {},
      "id": "288be7c0"
    },
    {
      "cell_type": "code",
      "source": "",
      "metadata": {},
      "execution_count": null,
      "outputs": [],
      "id": "c384e61d"
    },
    {
      "cell_type": "code",
      "source": "",
      "metadata": {},
      "execution_count": null,
      "outputs": [],
      "id": "0239fde6"
    },
    {
      "cell_type": "markdown",
      "source": "## Lists\n\nLists in python are compound data types, we use it to group together other values in sequence",
      "metadata": {},
      "id": "00450ca2"
    },
    {
      "cell_type": "code",
      "source": "",
      "metadata": {},
      "execution_count": null,
      "outputs": [],
      "id": "476f3bd0"
    },
    {
      "cell_type": "code",
      "source": "",
      "metadata": {},
      "execution_count": null,
      "outputs": [],
      "id": "45e23a11"
    },
    {
      "cell_type": "markdown",
      "source": "We can have different data types inside a list",
      "metadata": {},
      "id": "bd42e460"
    },
    {
      "cell_type": "code",
      "source": "",
      "metadata": {},
      "execution_count": null,
      "outputs": [],
      "id": "124c9923"
    },
    {
      "cell_type": "markdown",
      "source": "## List Methods\n\nLet's look at some methods\n\n### Len()\n\nReturns length of list",
      "metadata": {},
      "id": "8b4d15a4"
    },
    {
      "cell_type": "code",
      "source": "",
      "metadata": {},
      "execution_count": null,
      "outputs": [],
      "id": "0f9efbb7"
    },
    {
      "cell_type": "markdown",
      "source": "### Append(item)\n\nIt adds **item** to the list. It does not **return** anything! It changes the original list.",
      "metadata": {},
      "id": "362961ea"
    },
    {
      "cell_type": "code",
      "source": "",
      "metadata": {},
      "execution_count": null,
      "outputs": [],
      "id": "0be1eef1"
    },
    {
      "cell_type": "code",
      "source": "",
      "metadata": {},
      "execution_count": null,
      "outputs": [],
      "id": "5c05dea6"
    },
    {
      "cell_type": "markdown",
      "source": "### Clear()\n\nErases all elements from the list",
      "metadata": {},
      "id": "822460d6"
    },
    {
      "cell_type": "code",
      "source": "",
      "metadata": {},
      "execution_count": null,
      "outputs": [],
      "id": "c452124d"
    },
    {
      "cell_type": "markdown",
      "source": "### Count(val)\n\nReturns number of elements with specified value",
      "metadata": {},
      "id": "7bccaf76"
    },
    {
      "cell_type": "code",
      "source": "",
      "metadata": {},
      "execution_count": null,
      "outputs": [],
      "id": "a4656957"
    },
    {
      "cell_type": "markdown",
      "source": "### Extend()\n\nAdd elements of an iterable to the end of the list",
      "metadata": {},
      "id": "6c2c8858"
    },
    {
      "cell_type": "code",
      "source": "",
      "metadata": {},
      "execution_count": null,
      "outputs": [],
      "id": "fd5cb068"
    },
    {
      "cell_type": "markdown",
      "source": "### Index(val)\n\nReturns index of the first element with specified value",
      "metadata": {},
      "id": "4f225c99"
    },
    {
      "cell_type": "code",
      "source": "",
      "metadata": {},
      "execution_count": null,
      "outputs": [],
      "id": "d481e5ce"
    },
    {
      "cell_type": "code",
      "source": "",
      "metadata": {},
      "execution_count": null,
      "outputs": [],
      "id": "6097700a"
    },
    {
      "cell_type": "markdown",
      "source": "### Insert(position, element)\n\nInserts **element** to a list in the **position** index",
      "metadata": {},
      "id": "ffecbbdb"
    },
    {
      "cell_type": "code",
      "source": "",
      "metadata": {},
      "execution_count": null,
      "outputs": [],
      "id": "d7e19aea"
    },
    {
      "cell_type": "markdown",
      "source": "### Pop(position)\n\nRemoves element from specified position. If position is not set, it removes the last element",
      "metadata": {},
      "id": "8eca7ddc"
    },
    {
      "cell_type": "code",
      "source": "",
      "metadata": {},
      "execution_count": null,
      "outputs": [],
      "id": "5466c8eb"
    },
    {
      "cell_type": "code",
      "source": "",
      "metadata": {},
      "execution_count": null,
      "outputs": [],
      "id": "09407586"
    },
    {
      "cell_type": "markdown",
      "source": "### Remove(val)\n\nRemoves the first occurence of the element with specified **val**",
      "metadata": {},
      "id": "c9930368"
    },
    {
      "cell_type": "code",
      "source": "",
      "metadata": {},
      "execution_count": null,
      "outputs": [],
      "id": "06e0bc6d"
    },
    {
      "cell_type": "markdown",
      "source": "### Reverse()\n\nReverses the order of elements inside the list",
      "metadata": {},
      "id": "32ab2d6a"
    },
    {
      "cell_type": "code",
      "source": "",
      "metadata": {
        "trusted": true
      },
      "execution_count": null,
      "outputs": [],
      "id": "705d2369"
    },
    {
      "cell_type": "markdown",
      "source": "### Sort(reverse, key)\n\nSorts the list according to **reverse**. **reverse** is **False** by default, this means that sort will be ascending. If **True** it will be descending.\n\n**key** is a function that we can provide for sorting criterias. We did not see functions yet bet we will look at a very small example",
      "metadata": {},
      "id": "94e27d19"
    },
    {
      "cell_type": "code",
      "source": "",
      "metadata": {},
      "execution_count": null,
      "outputs": [],
      "id": "6f5d412e"
    },
    {
      "cell_type": "code",
      "source": "# We define a small function\n# we will look at functions in detail\ndef compareLength(element):\n    return len(element)\n\nsortList2 = [\"Elements\", \"in\", \"this\", \"list\", \"compared\", \"according\", \"to\", \"their\", \"lengths\"]\n\nsortList2.sort(key=compareLength)\n\nprint(sortList2)",
      "metadata": {},
      "execution_count": 89,
      "outputs": [
        {
          "name": "stdout",
          "output_type": "stream",
          "text": "['in', 'to', 'this', 'list', 'their', 'lengths', 'Elements', 'compared', 'according']\n"
        }
      ],
      "id": "71585913"
    },
    {
      "cell_type": "markdown",
      "source": "## List operators\n\nSimilar to strings, we can use operators on lists too.\n\n### + Operator\n\nWith **+** operator, we can add lists",
      "metadata": {},
      "id": "10f07735"
    },
    {
      "cell_type": "code",
      "source": "list1 = [1,2,3]\nlist2 = [4,5,6]\n\nresult = list1 + list2\n\nprint(result)",
      "metadata": {},
      "execution_count": 90,
      "outputs": [
        {
          "name": "stdout",
          "output_type": "stream",
          "text": "[1, 2, 3, 4, 5, 6]\n"
        }
      ],
      "id": "7eed7ea6"
    },
    {
      "cell_type": "markdown",
      "source": "### * Operator\n\nSimilar to strings;",
      "metadata": {},
      "id": "07fd5dbe"
    },
    {
      "cell_type": "code",
      "source": "list1 = [1]\n\nresult = list1 * 10\n\nprint(result)",
      "metadata": {},
      "execution_count": 92,
      "outputs": [
        {
          "name": "stdout",
          "output_type": "stream",
          "text": "[1, 1, 1, 1, 1, 1, 1, 1, 1, 1]\n"
        }
      ],
      "id": "1b8263de"
    },
    {
      "cell_type": "markdown",
      "source": "### in Operator\n\nIt returns **True** if left value is inside the list",
      "metadata": {},
      "id": "0d27f152"
    },
    {
      "cell_type": "code",
      "source": "inExample = ['tomato', 'carrot', 'banana']\n\n'banana' in inExample",
      "metadata": {},
      "execution_count": 93,
      "outputs": [
        {
          "execution_count": 93,
          "output_type": "execute_result",
          "data": {
            "text/plain": [
              "True"
            ]
          },
          "metadata": {}
        }
      ],
      "id": "c452b210"
    },
    {
      "cell_type": "code",
      "source": "'apple' in inExample",
      "metadata": {},
      "execution_count": 94,
      "outputs": [
        {
          "execution_count": 94,
          "output_type": "execute_result",
          "data": {
            "text/plain": [
              "False"
            ]
          },
          "metadata": {}
        }
      ],
      "id": "cb12ff04"
    },
    {
      "cell_type": "markdown",
      "source": "### not in Operator\n\nIt returns **True** if left value is not inside the list",
      "metadata": {},
      "id": "cf583e6e"
    },
    {
      "cell_type": "code",
      "source": "'apple' not in inExample",
      "metadata": {},
      "execution_count": 96,
      "outputs": [
        {
          "execution_count": 96,
          "output_type": "execute_result",
          "data": {
            "text/plain": [
              "True"
            ]
          },
          "metadata": {}
        }
      ],
      "id": "d3199a50"
    },
    {
      "cell_type": "markdown",
      "source": "### Del operator\n\nDeletes the element inside list",
      "metadata": {},
      "id": "738b3f4c"
    },
    {
      "cell_type": "code",
      "source": "delExample = [\"el1\", \"el2\", \"el3\", \"el4\"]\n\ndel delExample[1]\n\nprint(delExample)",
      "metadata": {},
      "execution_count": 95,
      "outputs": [
        {
          "name": "stdout",
          "output_type": "stream",
          "text": "['el1', 'el3', 'el4']\n"
        }
      ],
      "id": "20167909"
    },
    {
      "cell_type": "markdown",
      "source": "### We can make lists from Strings\n\nWe saw that in strings part, lets do it again",
      "metadata": {},
      "id": "1c67d326"
    },
    {
      "cell_type": "code",
      "source": "exampleString = \"ceng111,ceng100,ceng213,ceng140,ceng331,ceng334\"\n\ncourseList = exampleString.split(',')\n\nprint(courseList)",
      "metadata": {},
      "execution_count": 97,
      "outputs": [
        {
          "name": "stdout",
          "output_type": "stream",
          "text": "['ceng111', 'ceng100', 'ceng213', 'ceng140', 'ceng331', 'ceng334']\n"
        }
      ],
      "id": "2d7f794c"
    },
    {
      "cell_type": "markdown",
      "source": "### Slicing\n\nList/Tuple slicing is the same as string slicing. In addition to strings, lists also support item/slice assignment so it is not immutable like **string** and **tuple**",
      "metadata": {},
      "id": "c0b95b16"
    },
    {
      "cell_type": "code",
      "source": "a = [1,2,3,4]\n\na[0] = 6\n\nprint(a)",
      "metadata": {},
      "execution_count": 98,
      "outputs": [
        {
          "name": "stdout",
          "output_type": "stream",
          "text": "[6, 2, 3, 4]\n"
        }
      ],
      "id": "4bfaed62"
    },
    {
      "cell_type": "code",
      "source": "a[1:4] = ['ce','ng','111']\n\nprint(a)",
      "metadata": {},
      "execution_count": 99,
      "outputs": [
        {
          "name": "stdout",
          "output_type": "stream",
          "text": "[6, 'ce', 'ng', '111']\n"
        }
      ],
      "id": "77ba5f0c"
    },
    {
      "cell_type": "markdown",
      "source": "### List assignment\n\nWe can assign lists to another variables. But we have a little problem here. It is called **aliasing problem**\n\nFor example let's think;",
      "metadata": {},
      "id": "06cce626"
    },
    {
      "cell_type": "code",
      "source": "a = [3,4,5]\n\nb = a\n\nc = a\n\nprint(b)",
      "metadata": {},
      "execution_count": 100,
      "outputs": [
        {
          "name": "stdout",
          "output_type": "stream",
          "text": "[3, 4, 5]\n"
        }
      ],
      "id": "fb68b077"
    },
    {
      "cell_type": "markdown",
      "source": "We have list **a** and we assigned it to **b** and **c**. Lets add `6` to **a** and check **b** and **c**",
      "metadata": {},
      "id": "51a8013f"
    },
    {
      "cell_type": "code",
      "source": "a.append(6)\n\nprint(\"b is:\", b)\n\nprint(\"c is:\", c)",
      "metadata": {},
      "execution_count": 101,
      "outputs": [
        {
          "name": "stdout",
          "output_type": "stream",
          "text": "b is: [3, 4, 5, 6]\n\nc is: [3, 4, 5, 6]\n"
        }
      ],
      "id": "b034f9c1"
    },
    {
      "cell_type": "markdown",
      "source": "You see that **b** and **c** is also changed. Why is that happening?\n\nThe reason is, if we assign a list, it does not actually copy everthing in it. It copies the **address** of that list. How can we solve this?",
      "metadata": {},
      "id": "b9dfb038"
    },
    {
      "cell_type": "code",
      "source": "# We can make empty slicing because it returns a copy\na = [3,[\"a\",\"b\"], 5]\nb = a[:]\n\nprint(a)",
      "metadata": {},
      "execution_count": 106,
      "outputs": [
        {
          "name": "stdout",
          "output_type": "stream",
          "text": "[3, ['a', 'b'], 5]\n"
        }
      ],
      "id": "7c37b995"
    },
    {
      "cell_type": "code",
      "source": "print(b)",
      "metadata": {},
      "execution_count": 107,
      "outputs": [
        {
          "name": "stdout",
          "output_type": "stream",
          "text": "[3, ['a', 'b'], 5]\n"
        }
      ],
      "id": "9d612b81"
    },
    {
      "cell_type": "code",
      "source": "a.append(6)\nprint(a)",
      "metadata": {},
      "execution_count": 108,
      "outputs": [
        {
          "name": "stdout",
          "output_type": "stream",
          "text": "[3, ['a', 'b'], 5, 6]\n"
        }
      ],
      "id": "6a3fd640"
    },
    {
      "cell_type": "code",
      "source": "print(b)",
      "metadata": {},
      "execution_count": 109,
      "outputs": [
        {
          "name": "stdout",
          "output_type": "stream",
          "text": "[3, ['a', 'b'], 5]\n"
        }
      ],
      "id": "2928f319"
    },
    {
      "cell_type": "markdown",
      "source": "We don't have 6 in b. It looks like it is working. But we still have a problem.\n\nSlicing does not do deep copying, for example;",
      "metadata": {},
      "id": "df204ef3"
    },
    {
      "cell_type": "code",
      "source": "a = [3, [\"a\", \"b\"], 5]\nb = a[:]\n\na[1].append('c')\nprint(a)",
      "metadata": {},
      "execution_count": 110,
      "outputs": [
        {
          "name": "stdout",
          "output_type": "stream",
          "text": "[3, ['a', 'b', 'c'], 5]\n"
        }
      ],
      "id": "9d1758f2"
    },
    {
      "cell_type": "code",
      "source": "print(b)",
      "metadata": {},
      "execution_count": 111,
      "outputs": [
        {
          "name": "stdout",
          "output_type": "stream",
          "text": "[3, ['a', 'b', 'c'], 5]\n"
        }
      ],
      "id": "e7dbf79d"
    },
    {
      "cell_type": "markdown",
      "source": "`c` is also added in list b. Because when we sliced **a** and assigned it to **b**, we again copied the address of the nested list `[\"a\",\"b\"]`. So, when we added `c` to that list in **a**, it is also added in **b**. This is called **shallow copy**.\n\nSo, how to do deep copy?",
      "metadata": {},
      "id": "73a0c80a"
    },
    {
      "cell_type": "code",
      "source": "# We will learn about imports later\nimport copy\n\na = [3, [\"a\",\"b\"], 5]\n\nb = copy.deepcopy(a)\n\na[1].append('c')\nprint(a)",
      "metadata": {},
      "execution_count": 114,
      "outputs": [
        {
          "name": "stdout",
          "output_type": "stream",
          "text": "[3, ['a', 'b', 'c'], 5]\n"
        }
      ],
      "id": "02a038be"
    },
    {
      "cell_type": "code",
      "source": "print(b)",
      "metadata": {},
      "execution_count": 115,
      "outputs": [
        {
          "name": "stdout",
          "output_type": "stream",
          "text": "[3, ['a', 'b'], 5]\n"
        }
      ],
      "id": "e36e0df7"
    },
    {
      "cell_type": "markdown",
      "source": "## Tuples\n\nTuples are similar to lists but they are **immutable** like **strings** unlike **lists**",
      "metadata": {},
      "id": "3467e920"
    },
    {
      "cell_type": "code",
      "source": "tuple1 = (1,2,3)\n\ntuple1[0]",
      "metadata": {},
      "execution_count": 116,
      "outputs": [
        {
          "execution_count": 116,
          "output_type": "execute_result",
          "data": {
            "text/plain": [
              "1"
            ]
          },
          "metadata": {}
        }
      ],
      "id": "f1c5671d"
    },
    {
      "cell_type": "code",
      "source": "tuple1[0] = 100",
      "metadata": {},
      "execution_count": 117,
      "outputs": [
        {
          "ename": "TypeError",
          "evalue": "'tuple' object does not support item assignment",
          "output_type": "error",
          "traceback": [
            "\u001b[0;31m---------------------------------------------------------------------------\u001b[0m",
            "\u001b[0;31mTypeError\u001b[0m                                 Traceback (most recent call last)",
            "\u001b[0;32m<ipython-input-117-8f8834d0d1a3>\u001b[0m in \u001b[0;36m<module>\u001b[0;34m\u001b[0m\n\u001b[0;32m----> 1\u001b[0;31m \u001b[0mtuple1\u001b[0m\u001b[0;34m[\u001b[0m\u001b[0;36m0\u001b[0m\u001b[0;34m]\u001b[0m \u001b[0;34m=\u001b[0m \u001b[0;36m100\u001b[0m\u001b[0;34m\u001b[0m\u001b[0;34m\u001b[0m\u001b[0m\n\u001b[0m",
            "\u001b[0;31mTypeError\u001b[0m: 'tuple' object does not support item assignment"
          ]
        }
      ],
      "id": "235c937f"
    },
    {
      "cell_type": "markdown",
      "source": "We don't need paranthesis to make a tuple. Only commas (,) are enough",
      "metadata": {},
      "id": "fecb42a9"
    },
    {
      "cell_type": "code",
      "source": "tuple2 = 1,2\n\ntype(tuple2)",
      "metadata": {},
      "execution_count": 118,
      "outputs": [
        {
          "execution_count": 118,
          "output_type": "execute_result",
          "data": {
            "text/plain": [
              "tuple"
            ]
          },
          "metadata": {}
        }
      ],
      "id": "991e92a2"
    },
    {
      "cell_type": "markdown",
      "source": "## Tuple Unpacking\n",
      "metadata": {},
      "id": "b9e2c850"
    },
    {
      "cell_type": "code",
      "source": "student = ('2098929','e2098929','Eren','Dere','Ceng')\n\nsid = student[0]\nusername = student[1]\n\nprint(sid)\nprint(username)",
      "metadata": {},
      "execution_count": 119,
      "outputs": [
        {
          "name": "stdout",
          "output_type": "stream",
          "text": "2098929\n\ne2098929\n"
        }
      ],
      "id": "b5583799"
    },
    {
      "cell_type": "code",
      "source": "sid, username, firstname, lastname, department = student\n\nprint(firstname)",
      "metadata": {},
      "execution_count": 120,
      "outputs": [
        {
          "name": "stdout",
          "output_type": "stream",
          "text": "Eren\n"
        }
      ],
      "id": "2b0b3438"
    },
    {
      "cell_type": "code",
      "source": "print(lastname)",
      "metadata": {},
      "execution_count": 121,
      "outputs": [
        {
          "name": "stdout",
          "output_type": "stream",
          "text": "Dere\n"
        }
      ],
      "id": "134be079"
    },
    {
      "cell_type": "markdown",
      "source": "## Swap by tuple assignment\n\nWe can swap variables using tuple assignment like this;",
      "metadata": {},
      "id": "1bdfe387"
    },
    {
      "cell_type": "code",
      "source": "a = 5\nb = 7\na,b = b,a\n\nprint(a)",
      "metadata": {},
      "execution_count": 122,
      "outputs": [
        {
          "name": "stdout",
          "output_type": "stream",
          "text": "7\n"
        }
      ],
      "id": "cddee200"
    },
    {
      "cell_type": "code",
      "source": "print(b)",
      "metadata": {},
      "execution_count": 123,
      "outputs": [
        {
          "name": "stdout",
          "output_type": "stream",
          "text": "5\n"
        }
      ],
      "id": "5d399ee6"
    },
    {
      "cell_type": "markdown",
      "source": "### Tuple with single element\n",
      "metadata": {},
      "id": "5545ae39"
    },
    {
      "cell_type": "code",
      "source": "t = (4)\ntype(t)",
      "metadata": {},
      "execution_count": 124,
      "outputs": [
        {
          "execution_count": 124,
          "output_type": "execute_result",
          "data": {
            "text/plain": [
              "int"
            ]
          },
          "metadata": {}
        }
      ],
      "id": "57c689c6"
    },
    {
      "cell_type": "markdown",
      "source": "It's type is an int, but if we do",
      "metadata": {},
      "id": "71b2dafc"
    },
    {
      "cell_type": "code",
      "source": "t = (4,)\ntype(t)",
      "metadata": {},
      "execution_count": 125,
      "outputs": [
        {
          "execution_count": 125,
          "output_type": "execute_result",
          "data": {
            "text/plain": [
              "tuple"
            ]
          },
          "metadata": {}
        }
      ],
      "id": "4dbe0c72"
    },
    {
      "cell_type": "markdown",
      "source": "It becomes a tuple.",
      "metadata": {},
      "id": "fc0936fd"
    },
    {
      "cell_type": "markdown",
      "source": "## Len()\n\nLen can be used to learn tuple element count",
      "metadata": {},
      "id": "b95e0045"
    },
    {
      "cell_type": "code",
      "source": "a = (1,2,3)\nlen(a)",
      "metadata": {},
      "execution_count": 126,
      "outputs": [
        {
          "execution_count": 126,
          "output_type": "execute_result",
          "data": {
            "text/plain": [
              "3"
            ]
          },
          "metadata": {}
        }
      ],
      "id": "98cccc06"
    },
    {
      "cell_type": "markdown",
      "source": "## Type conversion\n\n**Lists** and **Strings** can be converted to tuple using **tuple()** method",
      "metadata": {},
      "id": "14faac32"
    },
    {
      "cell_type": "code",
      "source": "a = [1,2,3,4,5]\nb = tuple(a)\n\nprint(b)",
      "metadata": {},
      "execution_count": 127,
      "outputs": [
        {
          "name": "stdout",
          "output_type": "stream",
          "text": "(1, 2, 3, 4, 5)\n"
        }
      ],
      "id": "d66dd42c"
    },
    {
      "cell_type": "code",
      "source": "a = \"ceng111\"\nb = tuple(a)\n\nprint(b)",
      "metadata": {},
      "execution_count": 128,
      "outputs": [
        {
          "name": "stdout",
          "output_type": "stream",
          "text": "('c', 'e', 'n', 'g', '1', '1', '1')\n"
        }
      ],
      "id": "d8facebd"
    },
    {
      "cell_type": "markdown",
      "source": "Similarly, tuples can be converted to lits using **list()** method",
      "metadata": {},
      "id": "0c5d7c7f"
    },
    {
      "cell_type": "code",
      "source": "a = ('C','E','N','G')\nb = list(a)\nprint(b)",
      "metadata": {},
      "execution_count": 129,
      "outputs": [
        {
          "name": "stdout",
          "output_type": "stream",
          "text": "['C', 'E', 'N', 'G']\n"
        }
      ],
      "id": "5c4ca4ba"
    },
    {
      "cell_type": "markdown",
      "source": "# LAB EXERCISES\n\nFrom now on, we will look at some exercises\n\nAnswers will be written in this document but normally. You need to create requested files and write code to these files. And then type `python3 filename.py` in terminal to run them.\n\n\n## Reverse.py\n\nWrite a script named `reverse.py` that reads a string from the user and prints **True** if the string is a **palindrome**. Palindrome's are strings with reversed versions equal to original ones.",
      "metadata": {},
      "id": "9c4e578e"
    },
    {
      "cell_type": "code",
      "source": "# reverse.py\n\ninp = input('Give A String: ')\nprint(inp == inp[::-1])",
      "metadata": {},
      "execution_count": 132,
      "outputs": [
        {
          "name": "stdout",
          "output_type": "stream",
          "text": "Give A String: racecar\n\nTrue\n"
        }
      ],
      "id": "d59723c6"
    },
    {
      "cell_type": "markdown",
      "source": "## Words.py\n\nWrite a script named `words.py` that reads a sentence composed of three words and prints each word in separate lines.",
      "metadata": {},
      "id": "b24ed049"
    },
    {
      "cell_type": "code",
      "source": "# words.py\nsentence = input(\"Give a sentence with 3 words: \")\n\nfirst = sentence.find(' ')\nprint(sentence[:first])\n\nsecond = sentence[first+1:].find(' ')\nprint(sentence[first+1:first+second+1])\n\nprint(sentence[first+second+2:])",
      "metadata": {},
      "execution_count": 134,
      "outputs": [
        {
          "name": "stdout",
          "output_type": "stream",
          "text": "Give a sentence with 3 words: hello from end!\n\nhello\n\nfrom\n\nend!\n"
        }
      ],
      "id": "a1e8e28d"
    }
  ]
}